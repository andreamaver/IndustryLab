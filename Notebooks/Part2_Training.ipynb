{
  "cells": [
    {
      "cell_type": "markdown",
      "id": "d7bdc1ae",
      "metadata": {
        "id": "d7bdc1ae"
      },
      "source": [
        "# TRAINING"
      ]
    },
    {
      "cell_type": "code",
      "execution_count": 124,
      "id": "08e30058",
      "metadata": {
        "id": "08e30058",
        "outputId": "9c87ccb7-09ea-471b-f082-beb90bce7ca5"
      },
      "outputs": [
        {
          "name": "stdout",
          "output_type": "stream",
          "text": [
            "pandas 1.3.5\n",
            "sklearn 1.1.1\n",
            "statsmodels 0.13.2\n",
            "numpy 1.21.4\n",
            "keras 2.9.0\n",
            "pickle 4.0\n",
            "matplotlib 3.5.1\n",
            "gplearn: 0.4.2\n",
            "arch 5.2.0\n",
            "tensorflow 2.9.1\n"
          ]
        }
      ],
      "source": [
        "import pandas as pd\n",
        "print('pandas', pd.__version__)\n",
        "\n",
        "import sklearn\n",
        "from sklearn.metrics import mean_squared_error\n",
        "from sklearn.model_selection import train_test_split, KFold, cross_validate, TimeSeriesSplit\n",
        "from sklearn.linear_model import LinearRegression, Ridge\n",
        "from sklearn.tree import DecisionTreeRegressor\n",
        "from sklearn.preprocessing import StandardScaler\n",
        "from sklearn.inspection import PartialDependenceDisplay, permutation_importance\n",
        "from sklearn import __version__\n",
        "print('sklearn', __version__)\n",
        "\n",
        "import statsmodels as sm_\n",
        "from statsmodels.graphics.tsaplots import plot_acf, plot_pacf\n",
        "from statsmodels.tsa.arima.model import ARIMA\n",
        "from statsmodels.tsa.statespace.sarimax import SARIMAX\n",
        "from statsmodels.tsa.statespace.structural import UnobservedComponents\n",
        "from statsmodels.tsa.api import VAR\n",
        "import statsmodels.api as sm\n",
        "from statsmodels.tsa.stattools import grangercausalitytests\n",
        "import statsmodels.graphics.tsaplots as sgt\n",
        "\n",
        "print('statsmodels', sm_.__version__)\n",
        "\n",
        "import numpy as np\n",
        "print('numpy', np.__version__)\n",
        "\n",
        "import keras\n",
        "print('keras', keras.__version__)\n",
        "\n",
        "import pickle\n",
        "print('pickle', pickle.format_version)\n",
        "\n",
        "import matplotlib\n",
        "import matplotlib.pyplot as plt\n",
        "print('matplotlib', matplotlib.__version__)\n",
        "\n",
        "import gplearn as gpl        \n",
        "from gplearn.genetic import SymbolicRegressor\n",
        "print('gplearn:', gpl.__version__)\n",
        "\n",
        "import math \n",
        "import os\n",
        "import random\n",
        "\n",
        "import arch\n",
        "from arch import arch_model\n",
        "print('arch', arch.__version__)\n",
        "\n",
        "import tensorflow as tf\n",
        "print('tensorflow', tf.__version__)\n",
        "from keras import backend as K\n",
        "from tensorflow.keras import initializers\n",
        "\n",
        "import utils"
      ]
    },
    {
      "cell_type": "code",
      "execution_count": 2,
      "id": "9e0ab118",
      "metadata": {
        "id": "9e0ab118"
      },
      "outputs": [],
      "source": [
        "# Fisso il Random State per tutto il codice\n",
        "RANDOM_STATE = 0"
      ]
    },
    {
      "cell_type": "markdown",
      "id": "72a63789",
      "metadata": {
        "id": "72a63789"
      },
      "source": [
        "# Cross Validation Modelli Statistici"
      ]
    },
    {
      "cell_type": "code",
      "execution_count": 3,
      "id": "ac85d9d1",
      "metadata": {
        "id": "ac85d9d1"
      },
      "outputs": [],
      "source": [
        "def cross_validation(model, kwargs, df, target, f_exog, n_splits):\n",
        "    \n",
        "    '''\n",
        "    Questa funzione definisce la Cross Validation per i modelli statistici. L'obiettivo del progetto è prevedere i dati\n",
        "    con una settimana di anticipo e quindi i modelli devono essere valutati solo calcolando l'errore di questa previsione.\n",
        "    Ma i modelli statistici possono prevedere un intervallo. Noi abbiamo deciso, per ogni modello statistico, di prevedere un \n",
        "    intervallo di sette giorni successivo alla fine dei dati di train. La valutazione viene però fatta calcolando l'errore \n",
        "    (in questo caso MSE), solo tra la previsione del settimo giorno e i valori veri al settimo giorno. \n",
        "    Applicare una cross validation per le serie in questo caso significa, ad ogni passo, shiftare/spostare in avanti il train,\n",
        "    allungandolo oppure lasciandolo con una lunghezza predefinita, poi dall'ultimo giorno di train prevedere una settimana, \n",
        "    ed infine calcolare l'errore al settimo giorno e poi ripetere. Alla fine l'errore finale del modello è la media di tutti \n",
        "    gli errori calcolati.\n",
        "    Con MSE si intende l'errore quadratico medio, che nel caso di un'unica osservazione corrisponde al \n",
        "    quadrato della differenzatra i due valori.\n",
        "    input:\n",
        "    model: modello che si vuole applicare, può essere 'Sarimax' o 'UCM'\n",
        "        -kwargs: argomenti per il modello, che quindi dipendono dal modello scelto all'input precedente\n",
        "        -df: dataset con gli attributi e la colonna da prevedere\n",
        "        -target: colonna da prevedere, in questo caso 'Livello_Acqua' o 'Portata_Uscita'\n",
        "        -f_exog: lista contenente i nomi degli attributi esterni che si vogliono utilizzare nel modello\n",
        "        -n_splits: numero intero che rappresenta il numero di passi che si vogliono effettuare\n",
        "\n",
        "    output:\n",
        "        -erore finale ottenuto con la cross validation\n",
        "\n",
        "    '''\n",
        "\n",
        "# mse è il vettore in cui salviamo, a ogni passo, il valore dell'errore \n",
        "    mse = []\n",
        "    \n",
        "    # X è il dataset contenente gli attributi esterni\n",
        "    X = df[f_exog]\n",
        "    # Y è la variabile target\n",
        "    Y = df[target]\n",
        "    \n",
        "    # Come gia' scritto, il modello a cui si applica questa cross validation puo' essere Sarimax o UCM\n",
        "    assert (model == 'Sarimax')\n",
        "        \n",
        "    # Definiamo una cv per serie temporali, il numero di splits e' quello di input\n",
        "    # La dimensione del test size e' una settimana, cioe' sette osservazioni\n",
        "    time_series_cv = TimeSeriesSplit(n_splits = n_splits, test_size = 7, )\n",
        "    \n",
        "    # Per ogni divisione/coppia train e validation\n",
        "    for train_index, val_index in time_series_cv.split(X):\n",
        "        \n",
        "        # Separiamo gli attributi per il train e il validation\n",
        "        X_train, X_val = X.loc[train_index], X.loc[val_index]\n",
        "        \n",
        "        # Separiamo la variabile da prevedere tra train e validation\n",
        "        Y_train, Y_val = Y[train_index], Y[val_index]\n",
        "    \n",
        "    \n",
        "        if model == 'Sarimax':\n",
        "            # Se il modello e' Sarimax, definiamo il modello\n",
        "            # Y_train è la serie obiettivo\n",
        "            # exog il dataset con variabili esterne\n",
        "            # Poi fittiamo con metodo di convergenza di Nelder-Mead e un massimo di iterazioni alto per raggiungere convergenza\n",
        "            model_s = SARIMAX(Y_train, exog = X_train, **kwargs).fit(method = 'nm', maxiter = 11000, disp = False) \n",
        "        \n",
        "        # Lunghezza e' la lunghezza del train\n",
        "        # Serve per definire gli indici\n",
        "        lunghezza = len(X_train)\n",
        "        \n",
        "        # Otteniamo le previsioni del modello per sette giorni utilizzando anche le variabili esterne del Validation\n",
        "        predictions = model_s.get_forecast(steps = 7, exog = X_val)\n",
        "        # Le previsioni sono sotto l'indice 'predict_mean'\n",
        "        predictions = np.exp(predictions.predicted_mean)\n",
        "        Y_val = np.exp(Y_val)\n",
        "        # Calcoliamo l'errore e lo appendiamo\n",
        "        # Indice e': dalla fine del train aggiungo 6. Perche': se il train ha lunghezza t, l'ultimo indice e' t-1 (perche' \n",
        "        # il primo e' zero), allora il validation parte da t, poi t+1, fino a t+6 (che e' il settimo valore)\n",
        "        mse.append((Y_val[lunghezza+6]-predictions[lunghezza+6])**2)\n",
        "\n",
        "    # Output e' la media degli errori\n",
        "    return np.mean(mse)"
      ]
    },
    {
      "cell_type": "markdown",
      "id": "9da0e307",
      "metadata": {
        "id": "9da0e307"
      },
      "source": [
        "# Regressione Lineare (modello baseline)"
      ]
    },
    {
      "cell_type": "code",
      "execution_count": 4,
      "id": "0aa71f6c",
      "metadata": {
        "id": "0aa71f6c"
      },
      "outputs": [],
      "source": [
        "# Attributi per la cross validation\n",
        "n_split = 60\n",
        "test_size = 50"
      ]
    },
    {
      "cell_type": "markdown",
      "id": "625f63e8",
      "metadata": {
        "id": "625f63e8"
      },
      "source": [
        "## Livello Acqua"
      ]
    },
    {
      "cell_type": "code",
      "execution_count": 5,
      "id": "ce5d8fcc",
      "metadata": {
        "id": "ce5d8fcc",
        "outputId": "8eb44a15-999b-408b-96e5-cb081b91f7a5"
      },
      "outputs": [
        {
          "data": {
            "text/html": [
              "<div>\n",
              "<style scoped>\n",
              "    .dataframe tbody tr th:only-of-type {\n",
              "        vertical-align: middle;\n",
              "    }\n",
              "\n",
              "    .dataframe tbody tr th {\n",
              "        vertical-align: top;\n",
              "    }\n",
              "\n",
              "    .dataframe thead th {\n",
              "        text-align: right;\n",
              "    }\n",
              "</style>\n",
              "<table border=\"1\" class=\"dataframe\">\n",
              "  <thead>\n",
              "    <tr style=\"text-align: right;\">\n",
              "      <th></th>\n",
              "      <th>Livello_Acqua</th>\n",
              "      <th>Pioggia_Totale</th>\n",
              "      <th>Portata_Uscita</th>\n",
              "      <th>Temperatura_Zona_5</th>\n",
              "    </tr>\n",
              "  </thead>\n",
              "  <tbody>\n",
              "    <tr>\n",
              "      <th>0</th>\n",
              "      <td>30.49</td>\n",
              "      <td>-0.391247</td>\n",
              "      <td>-0.562852</td>\n",
              "      <td>-1.164693</td>\n",
              "    </tr>\n",
              "    <tr>\n",
              "      <th>1</th>\n",
              "      <td>30.52</td>\n",
              "      <td>-0.391247</td>\n",
              "      <td>-0.562852</td>\n",
              "      <td>-1.460430</td>\n",
              "    </tr>\n",
              "    <tr>\n",
              "      <th>2</th>\n",
              "      <td>30.53</td>\n",
              "      <td>-0.391247</td>\n",
              "      <td>-0.562852</td>\n",
              "      <td>-1.813872</td>\n",
              "    </tr>\n",
              "    <tr>\n",
              "      <th>3</th>\n",
              "      <td>30.55</td>\n",
              "      <td>-0.385787</td>\n",
              "      <td>-0.562852</td>\n",
              "      <td>-1.972560</td>\n",
              "    </tr>\n",
              "    <tr>\n",
              "      <th>4</th>\n",
              "      <td>30.58</td>\n",
              "      <td>-0.391247</td>\n",
              "      <td>-0.562852</td>\n",
              "      <td>-1.777807</td>\n",
              "    </tr>\n",
              "  </tbody>\n",
              "</table>\n",
              "</div>"
            ],
            "text/plain": [
              "   Livello_Acqua  Pioggia_Totale  Portata_Uscita  Temperatura_Zona_5\n",
              "0          30.49       -0.391247       -0.562852           -1.164693\n",
              "1          30.52       -0.391247       -0.562852           -1.460430\n",
              "2          30.53       -0.391247       -0.562852           -1.813872\n",
              "3          30.55       -0.385787       -0.562852           -1.972560\n",
              "4          30.58       -0.391247       -0.562852           -1.777807"
            ]
          },
          "execution_count": 5,
          "metadata": {},
          "output_type": "execute_result"
        }
      ],
      "source": [
        "# Carico il dataset con attributi normalizzati\n",
        "X = pd.read_pickle('###')\n",
        "df_reg_livello = X[X.columns.difference(['Log_Livello_Acqua','Data','Year', 'Time', 'Time_square', 'Intercetta', 'cc_1', 'cc_2', 'ss_1', 'ss_2'])]\n",
        "df_reg_livello.head()"
      ]
    },
    {
      "cell_type": "code",
      "execution_count": 6,
      "id": "5b6b1157",
      "metadata": {
        "id": "5b6b1157"
      },
      "outputs": [],
      "source": [
        "# Escludo dagli attributi le colonne riguardanti la Data e l'anno della misurazione\n",
        "# Oltre che la colonna target e il suo logaritmo\n",
        "X_reg_livello = df_reg_livello[df_reg_livello.columns.difference(['Livello_Acqua'])]\n",
        "# Rappresenta il target\n",
        "Y_reg_livello = df_reg_livello['Livello_Acqua']"
      ]
    },
    {
      "cell_type": "code",
      "execution_count": 7,
      "id": "ec26438d",
      "metadata": {
        "id": "ec26438d",
        "outputId": "4c4f0f2e-a9b4-4c44-a35b-9c21dd6367d1"
      },
      "outputs": [
        {
          "name": "stdout",
          "output_type": "stream",
          "text": [
            "Wall time: 232 ms\n"
          ]
        },
        {
          "data": {
            "text/plain": [
              "5.172"
            ]
          },
          "execution_count": 7,
          "metadata": {},
          "output_type": "execute_result"
        }
      ],
      "source": [
        "%%time  \n",
        "# Separazione train-validation con time series cross validation\n",
        "time_series_cv = TimeSeriesSplit(n_splits = n_split, test_size = test_size)\n",
        "# Array che memorizza gli errori di ogni passo\n",
        "MSE_reg_livello = []\n",
        "    \n",
        "for train_index, val_index in time_series_cv.split(X_reg_livello):\n",
        "    # Separazione Train e Validation\n",
        "    X_train, X_val = X_reg_livello.loc[train_index], X_reg_livello.loc[val_index]\n",
        "    Y_train, Y_val = Y_reg_livello[train_index], Y_reg_livello[val_index]\n",
        "    \n",
        "    # Definisco la Regressione Ridge\n",
        "    regr = Ridge()\n",
        "    # Fit e previsioni\n",
        "    regr.fit(X_train, Y_train)\n",
        "    y_pre = regr.predict(X_val)\n",
        "    # Calcolo dell'errore quadratico medi0\n",
        "    MSE_reg_livello.append(mean_squared_error(Y_val, y_pre))\n",
        "    \n",
        "# Print della media degli errori \n",
        "round(np.mean(np.array(MSE_reg_livello)),3)"
      ]
    },
    {
      "cell_type": "markdown",
      "id": "eeafbaec",
      "metadata": {
        "id": "eeafbaec"
      },
      "source": [
        "## Training del Modello"
      ]
    },
    {
      "cell_type": "code",
      "execution_count": 8,
      "id": "1822cffb",
      "metadata": {
        "id": "1822cffb"
      },
      "outputs": [
        {
          "name": "stdout",
          "output_type": "stream",
          "text": [
            "Wall time: 2.64 ms\n"
          ]
        }
      ],
      "source": [
        "%%time\n",
        "# Definisco la Regressione Ridge\n",
        "regr_livello = Ridge()\n",
        "# Fit \n",
        "regr_livello = regr_livello.fit(X_reg_livello, Y_reg_livello)"
      ]
    },
    {
      "cell_type": "code",
      "execution_count": 9,
      "id": "c7859b62",
      "metadata": {
        "id": "c7859b62"
      },
      "outputs": [],
      "source": [
        "# Salviamo modello\n",
        "with open('###', 'wb') as file:\n",
        "    pickle.dump(regr_livello, file)"
      ]
    },
    {
      "cell_type": "markdown",
      "id": "fa225957",
      "metadata": {
        "id": "fa225957"
      },
      "source": [
        "## Portata Uscita"
      ]
    },
    {
      "cell_type": "code",
      "execution_count": 10,
      "id": "3580d995",
      "metadata": {
        "id": "3580d995",
        "outputId": "30216e15-8e64-4453-eac8-4917065be0f6"
      },
      "outputs": [
        {
          "data": {
            "text/html": [
              "<div>\n",
              "<style scoped>\n",
              "    .dataframe tbody tr th:only-of-type {\n",
              "        vertical-align: middle;\n",
              "    }\n",
              "\n",
              "    .dataframe tbody tr th {\n",
              "        vertical-align: top;\n",
              "    }\n",
              "\n",
              "    .dataframe thead th {\n",
              "        text-align: right;\n",
              "    }\n",
              "</style>\n",
              "<table border=\"1\" class=\"dataframe\">\n",
              "  <thead>\n",
              "    <tr style=\"text-align: right;\">\n",
              "      <th></th>\n",
              "      <th>Livello_Acqua</th>\n",
              "      <th>Pioggia_Totale</th>\n",
              "      <th>Portata_Uscita</th>\n",
              "      <th>Temperatura_Zona_5</th>\n",
              "    </tr>\n",
              "  </thead>\n",
              "  <tbody>\n",
              "    <tr>\n",
              "      <th>0</th>\n",
              "      <td>0.745450</td>\n",
              "      <td>-0.391247</td>\n",
              "      <td>0.5</td>\n",
              "      <td>-1.164693</td>\n",
              "    </tr>\n",
              "    <tr>\n",
              "      <th>1</th>\n",
              "      <td>0.776161</td>\n",
              "      <td>-0.391247</td>\n",
              "      <td>0.5</td>\n",
              "      <td>-1.460430</td>\n",
              "    </tr>\n",
              "    <tr>\n",
              "      <th>2</th>\n",
              "      <td>0.806873</td>\n",
              "      <td>-0.391247</td>\n",
              "      <td>0.5</td>\n",
              "      <td>-1.813872</td>\n",
              "    </tr>\n",
              "    <tr>\n",
              "      <th>3</th>\n",
              "      <td>0.815647</td>\n",
              "      <td>-0.385787</td>\n",
              "      <td>0.5</td>\n",
              "      <td>-1.972560</td>\n",
              "    </tr>\n",
              "    <tr>\n",
              "      <th>4</th>\n",
              "      <td>0.837584</td>\n",
              "      <td>-0.391247</td>\n",
              "      <td>0.5</td>\n",
              "      <td>-1.777807</td>\n",
              "    </tr>\n",
              "  </tbody>\n",
              "</table>\n",
              "</div>"
            ],
            "text/plain": [
              "   Livello_Acqua  Pioggia_Totale  Portata_Uscita  Temperatura_Zona_5\n",
              "0       0.745450       -0.391247             0.5           -1.164693\n",
              "1       0.776161       -0.391247             0.5           -1.460430\n",
              "2       0.806873       -0.391247             0.5           -1.813872\n",
              "3       0.815647       -0.385787             0.5           -1.972560\n",
              "4       0.837584       -0.391247             0.5           -1.777807"
            ]
          },
          "execution_count": 10,
          "metadata": {},
          "output_type": "execute_result"
        }
      ],
      "source": [
        "# Carico il dataset con attributi normalizzati\n",
        "X = pd.read_pickle('###', compression='zip')\n",
        "df_reg_portata = X[X.columns.difference(['Log_Portata_Uscita','Data','Year', 'Time', 'Intercetta', 'Livello_Acqua_square', 'cc_1', 'ss_1', 'cc_2', 'ss_2'])]\n",
        "df_reg_portata.head()  "
      ]
    },
    {
      "cell_type": "code",
      "execution_count": 11,
      "id": "b2e8527c",
      "metadata": {
        "id": "b2e8527c"
      },
      "outputs": [],
      "source": [
        "# Escludo dagli attributi le colonne riguardanti la Data e l'anno della misurazione\n",
        "# Oltre che la colonna target e il suo logaritmo\n",
        "X_reg_portata = df_reg_portata[df_reg_portata.columns.difference(['Portata_Uscita'])]\n",
        "# Rappresenta il target\n",
        "Y_reg_portata = df_reg_portata['Portata_Uscita']"
      ]
    },
    {
      "cell_type": "code",
      "execution_count": 12,
      "id": "624b2d43",
      "metadata": {
        "id": "624b2d43",
        "outputId": "520c0450-1203-495b-8ae1-3275fab7ff6c"
      },
      "outputs": [
        {
          "name": "stdout",
          "output_type": "stream",
          "text": [
            "Wall time: 258 ms\n"
          ]
        },
        {
          "data": {
            "text/plain": [
              "17.292"
            ]
          },
          "execution_count": 12,
          "metadata": {},
          "output_type": "execute_result"
        }
      ],
      "source": [
        "%%time\n",
        "# Separazione train-validation con time series cross validation\n",
        "time_series_cv = TimeSeriesSplit(n_splits = n_split, test_size = test_size)\n",
        "# Array che memorizza gli errori di ogni passo\n",
        "MSE_reg_portata = []\n",
        "    \n",
        "for train_index, val_index in time_series_cv.split(X_reg_portata):\n",
        "    # Separazione Train e Validation\n",
        "    X_train, X_val = X_reg_portata.loc[train_index], X_reg_portata.loc[val_index]\n",
        "    Y_train, Y_val = Y_reg_portata[train_index], Y_reg_portata[val_index]\n",
        "    \n",
        "    # Definisco la Regressione Lineare\n",
        "    regr = LinearRegression()\n",
        "    # Fit e previsioni\n",
        "    regr.fit(X_train, Y_train)\n",
        "    y_pre = regr.predict(X_val)\n",
        "    # Calcolo dell'errore quadratico medi0\n",
        "    MSE_reg_portata.append(mean_squared_error(Y_val, y_pre))\n",
        "    \n",
        "# Print della media degli errori \n",
        "round(np.mean(np.array(MSE_reg_portata)),3)"
      ]
    },
    {
      "cell_type": "markdown",
      "id": "efec327b",
      "metadata": {
        "id": "efec327b"
      },
      "source": [
        "## Training del modello"
      ]
    },
    {
      "cell_type": "code",
      "execution_count": 13,
      "id": "3c4909d7",
      "metadata": {
        "id": "3c4909d7"
      },
      "outputs": [
        {
          "name": "stdout",
          "output_type": "stream",
          "text": [
            "Wall time: 4 ms\n"
          ]
        }
      ],
      "source": [
        "%%time  \n",
        "# Definisco la Regressione Lineare\n",
        "regr_portata = LinearRegression()\n",
        "# Fit \n",
        "regr_portata = regr_portata.fit(X_reg_portata, Y_reg_portata)"
      ]
    },
    {
      "cell_type": "code",
      "execution_count": 14,
      "id": "838b9b7c",
      "metadata": {
        "id": "838b9b7c"
      },
      "outputs": [],
      "source": [
        "# Salviamo modello\n",
        "with open('###', 'wb') as file:\n",
        "    pickle.dump(regr_portata, file)"
      ]
    },
    {
      "cell_type": "markdown",
      "id": "92b6bb88",
      "metadata": {
        "id": "92b6bb88"
      },
      "source": [
        "# ARIMAX"
      ]
    },
    {
      "cell_type": "markdown",
      "id": "6aef1770",
      "metadata": {
        "id": "6aef1770"
      },
      "source": [
        "## Livello Acqua"
      ]
    },
    {
      "cell_type": "code",
      "execution_count": 15,
      "id": "183beb9e",
      "metadata": {
        "id": "183beb9e",
        "outputId": "22c02549-37c1-45b2-cb1c-630cd9824ffc"
      },
      "outputs": [
        {
          "data": {
            "text/html": [
              "<div>\n",
              "<style scoped>\n",
              "    .dataframe tbody tr th:only-of-type {\n",
              "        vertical-align: middle;\n",
              "    }\n",
              "\n",
              "    .dataframe tbody tr th {\n",
              "        vertical-align: top;\n",
              "    }\n",
              "\n",
              "    .dataframe thead th {\n",
              "        text-align: right;\n",
              "    }\n",
              "</style>\n",
              "<table border=\"1\" class=\"dataframe\">\n",
              "  <thead>\n",
              "    <tr style=\"text-align: right;\">\n",
              "      <th></th>\n",
              "      <th>Intercetta</th>\n",
              "      <th>Log_Livello_Acqua</th>\n",
              "      <th>Pioggia_Totale</th>\n",
              "      <th>Temperatura_Zona_5</th>\n",
              "      <th>Time</th>\n",
              "      <th>Time_square</th>\n",
              "      <th>cc_1</th>\n",
              "      <th>cc_2</th>\n",
              "      <th>ss_1</th>\n",
              "      <th>ss_2</th>\n",
              "    </tr>\n",
              "  </thead>\n",
              "  <tbody>\n",
              "    <tr>\n",
              "      <th>0</th>\n",
              "      <td>1</td>\n",
              "      <td>3.417399</td>\n",
              "      <td>-0.391247</td>\n",
              "      <td>-1.164693</td>\n",
              "      <td>1</td>\n",
              "      <td>1</td>\n",
              "      <td>0.999852</td>\n",
              "      <td>0.999408</td>\n",
              "      <td>0.017202</td>\n",
              "      <td>0.034398</td>\n",
              "    </tr>\n",
              "    <tr>\n",
              "      <th>1</th>\n",
              "      <td>1</td>\n",
              "      <td>3.418382</td>\n",
              "      <td>-0.391247</td>\n",
              "      <td>-1.460430</td>\n",
              "      <td>2</td>\n",
              "      <td>4</td>\n",
              "      <td>0.999408</td>\n",
              "      <td>0.997634</td>\n",
              "      <td>0.034398</td>\n",
              "      <td>0.068755</td>\n",
              "    </tr>\n",
              "    <tr>\n",
              "      <th>2</th>\n",
              "      <td>1</td>\n",
              "      <td>3.418710</td>\n",
              "      <td>-0.391247</td>\n",
              "      <td>-1.813872</td>\n",
              "      <td>3</td>\n",
              "      <td>9</td>\n",
              "      <td>0.998669</td>\n",
              "      <td>0.994678</td>\n",
              "      <td>0.051584</td>\n",
              "      <td>0.103031</td>\n",
              "    </tr>\n",
              "    <tr>\n",
              "      <th>3</th>\n",
              "      <td>1</td>\n",
              "      <td>3.419365</td>\n",
              "      <td>-0.385787</td>\n",
              "      <td>-1.972560</td>\n",
              "      <td>4</td>\n",
              "      <td>16</td>\n",
              "      <td>0.997634</td>\n",
              "      <td>0.990545</td>\n",
              "      <td>0.068755</td>\n",
              "      <td>0.137185</td>\n",
              "    </tr>\n",
              "    <tr>\n",
              "      <th>4</th>\n",
              "      <td>1</td>\n",
              "      <td>3.420346</td>\n",
              "      <td>-0.391247</td>\n",
              "      <td>-1.777807</td>\n",
              "      <td>5</td>\n",
              "      <td>25</td>\n",
              "      <td>0.996303</td>\n",
              "      <td>0.985240</td>\n",
              "      <td>0.085906</td>\n",
              "      <td>0.171177</td>\n",
              "    </tr>\n",
              "    <tr>\n",
              "      <th>...</th>\n",
              "      <td>...</td>\n",
              "      <td>...</td>\n",
              "      <td>...</td>\n",
              "      <td>...</td>\n",
              "      <td>...</td>\n",
              "      <td>...</td>\n",
              "      <td>...</td>\n",
              "      <td>...</td>\n",
              "      <td>...</td>\n",
              "      <td>...</td>\n",
              "    </tr>\n",
              "    <tr>\n",
              "      <th>4808</th>\n",
              "      <td>1</td>\n",
              "      <td>3.426865</td>\n",
              "      <td>-0.391247</td>\n",
              "      <td>-0.760759</td>\n",
              "      <td>4809</td>\n",
              "      <td>23126481</td>\n",
              "      <td>0.501861</td>\n",
              "      <td>-0.496271</td>\n",
              "      <td>0.864948</td>\n",
              "      <td>0.868168</td>\n",
              "    </tr>\n",
              "    <tr>\n",
              "      <th>4809</th>\n",
              "      <td>1</td>\n",
              "      <td>3.426540</td>\n",
              "      <td>1.607224</td>\n",
              "      <td>-0.479449</td>\n",
              "      <td>4810</td>\n",
              "      <td>23136100</td>\n",
              "      <td>0.486908</td>\n",
              "      <td>-0.525841</td>\n",
              "      <td>0.873453</td>\n",
              "      <td>0.850583</td>\n",
              "    </tr>\n",
              "    <tr>\n",
              "      <th>4810</th>\n",
              "      <td>1</td>\n",
              "      <td>3.424263</td>\n",
              "      <td>1.781953</td>\n",
              "      <td>-0.883382</td>\n",
              "      <td>4811</td>\n",
              "      <td>23145721</td>\n",
              "      <td>0.471812</td>\n",
              "      <td>-0.554788</td>\n",
              "      <td>0.881699</td>\n",
              "      <td>0.831992</td>\n",
              "    </tr>\n",
              "    <tr>\n",
              "      <th>4811</th>\n",
              "      <td>1</td>\n",
              "      <td>3.421653</td>\n",
              "      <td>4.353756</td>\n",
              "      <td>-1.135841</td>\n",
              "      <td>4812</td>\n",
              "      <td>23155344</td>\n",
              "      <td>0.456575</td>\n",
              "      <td>-0.583078</td>\n",
              "      <td>0.889685</td>\n",
              "      <td>0.812416</td>\n",
              "    </tr>\n",
              "    <tr>\n",
              "      <th>4812</th>\n",
              "      <td>1</td>\n",
              "      <td>3.419037</td>\n",
              "      <td>-0.314803</td>\n",
              "      <td>-0.905021</td>\n",
              "      <td>4813</td>\n",
              "      <td>23164969</td>\n",
              "      <td>0.441204</td>\n",
              "      <td>-0.610679</td>\n",
              "      <td>0.897407</td>\n",
              "      <td>0.791878</td>\n",
              "    </tr>\n",
              "  </tbody>\n",
              "</table>\n",
              "<p>4813 rows × 10 columns</p>\n",
              "</div>"
            ],
            "text/plain": [
              "      Intercetta  Log_Livello_Acqua  Pioggia_Totale  Temperatura_Zona_5  Time  \\\n",
              "0              1           3.417399       -0.391247           -1.164693     1   \n",
              "1              1           3.418382       -0.391247           -1.460430     2   \n",
              "2              1           3.418710       -0.391247           -1.813872     3   \n",
              "3              1           3.419365       -0.385787           -1.972560     4   \n",
              "4              1           3.420346       -0.391247           -1.777807     5   \n",
              "...          ...                ...             ...                 ...   ...   \n",
              "4808           1           3.426865       -0.391247           -0.760759  4809   \n",
              "4809           1           3.426540        1.607224           -0.479449  4810   \n",
              "4810           1           3.424263        1.781953           -0.883382  4811   \n",
              "4811           1           3.421653        4.353756           -1.135841  4812   \n",
              "4812           1           3.419037       -0.314803           -0.905021  4813   \n",
              "\n",
              "      Time_square      cc_1      cc_2      ss_1      ss_2  \n",
              "0               1  0.999852  0.999408  0.017202  0.034398  \n",
              "1               4  0.999408  0.997634  0.034398  0.068755  \n",
              "2               9  0.998669  0.994678  0.051584  0.103031  \n",
              "3              16  0.997634  0.990545  0.068755  0.137185  \n",
              "4              25  0.996303  0.985240  0.085906  0.171177  \n",
              "...           ...       ...       ...       ...       ...  \n",
              "4808     23126481  0.501861 -0.496271  0.864948  0.868168  \n",
              "4809     23136100  0.486908 -0.525841  0.873453  0.850583  \n",
              "4810     23145721  0.471812 -0.554788  0.881699  0.831992  \n",
              "4811     23155344  0.456575 -0.583078  0.889685  0.812416  \n",
              "4812     23164969  0.441204 -0.610679  0.897407  0.791878  \n",
              "\n",
              "[4813 rows x 10 columns]"
            ]
          },
          "execution_count": 15,
          "metadata": {},
          "output_type": "execute_result"
        }
      ],
      "source": [
        "# Carichiamo dataset e selezione colonne necessarie\n",
        "X = pd.read_pickle('###', compression='zip')\n",
        "df_sarima_livello = X[X.columns.difference(['Data','Year', 'Portata_Uscita', 'Livello_Acqua'])]\n",
        "df_sarima_livello"
      ]
    },
    {
      "cell_type": "code",
      "execution_count": 16,
      "id": "5d07bae9",
      "metadata": {
        "id": "5d07bae9"
      },
      "outputs": [],
      "source": [
        "# Applichiamo un modello lineare per poi studiarne i residui\n",
        "X_sarima = df_sarima_livello[df_sarima_livello.columns.difference(['Log_Livello_Acqua'])]\n",
        "Y_sarima = df_sarima_livello['Log_Livello_Acqua']\n",
        "regr_sarima = sm.OLS(Y_sarima, X_sarima)\n",
        "results_reg_sarima = regr_sarima.fit()"
      ]
    },
    {
      "cell_type": "code",
      "execution_count": 17,
      "id": "1bf33d1f",
      "metadata": {
        "id": "1bf33d1f",
        "outputId": "186e106b-922e-404f-e6fd-c00abf878a9e"
      },
      "outputs": [
        {
          "name": "stdout",
          "output_type": "stream",
          "text": [
            "                            OLS Regression Results                            \n",
            "==============================================================================\n",
            "Dep. Variable:      Log_Livello_Acqua   R-squared:                       0.514\n",
            "Model:                            OLS   Adj. R-squared:                  0.513\n",
            "Method:                 Least Squares   F-statistic:                     635.6\n",
            "Date:                Fri, 24 Jun 2022   Prob (F-statistic):               0.00\n",
            "Time:                        22:06:18   Log-Likelihood:                 6898.9\n",
            "No. Observations:                4813   AIC:                        -1.378e+04\n",
            "Df Residuals:                    4804   BIC:                        -1.372e+04\n",
            "Df Model:                           8                                         \n",
            "Covariance Type:            nonrobust                                         \n",
            "======================================================================================\n",
            "                         coef    std err          t      P>|t|      [0.025      0.975]\n",
            "--------------------------------------------------------------------------------------\n",
            "Intercetta             3.3906      0.003   1335.170      0.000       3.386       3.396\n",
            "Pioggia_Totale         0.0070      0.001      8.354      0.000       0.005       0.009\n",
            "Temperatura_Zona_5    -0.0099      0.002     -4.945      0.000      -0.014      -0.006\n",
            "Time               -4.302e-05   2.45e-06    -17.566      0.000   -4.78e-05   -3.82e-05\n",
            "Time_square         7.724e-09   4.91e-10     15.718      0.000    6.76e-09    8.69e-09\n",
            "cc_1                  -0.0424      0.003    -16.129      0.000      -0.048      -0.037\n",
            "cc_2                   0.0220      0.001     18.622      0.000       0.020       0.024\n",
            "ss_1                   0.0650      0.001     43.497      0.000       0.062       0.068\n",
            "ss_2                   0.0132      0.001     11.074      0.000       0.011       0.016\n",
            "==============================================================================\n",
            "Omnibus:                      804.663   Durbin-Watson:                   0.028\n",
            "Prob(Omnibus):                  0.000   Jarque-Bera (JB):             1595.952\n",
            "Skew:                          -1.014   Prob(JB):                         0.00\n",
            "Kurtosis:                       4.961   Cond. No.                     4.24e+07\n",
            "==============================================================================\n",
            "\n",
            "Notes:\n",
            "[1] Standard Errors assume that the covariance matrix of the errors is correctly specified.\n",
            "[2] The condition number is large, 4.24e+07. This might indicate that there are\n",
            "strong multicollinearity or other numerical problems.\n"
          ]
        }
      ],
      "source": [
        "# Risultati\n",
        "print(results_reg_sarima.summary())"
      ]
    },
    {
      "cell_type": "code",
      "execution_count": 18,
      "id": "b083ded6",
      "metadata": {
        "id": "b083ded6"
      },
      "outputs": [],
      "source": [
        "num_sinusoidi = 2\n",
        "omega = np.outer(range(1,len(df_sarima_livello)+1), range(1,num_sinusoidi+1)) * 2 * math.pi / (365.25)\n",
        "cc = np.cos(omega)\n",
        "ss = np.sin(omega)\n",
        "\n",
        "t = np.array(range(1,len(df_sarima_livello)+1))\n",
        "t2 = t**2 \n",
        "\n",
        "params = results_reg_sarima.params\n",
        "\n",
        "level = params[0] + t*params[3] + t2*params[4] \n",
        "\n",
        "y_features = params[1]*df_sarima_livello['Pioggia_Totale'] + params[2]*df_sarima_livello['Temperatura_Zona_5']\n",
        "\n",
        "y_seas = cc.dot(params[5:(5+num_sinusoidi)]) + ss.dot(params[(5+num_sinusoidi):])"
      ]
    },
    {
      "cell_type": "code",
      "execution_count": 19,
      "id": "744350f0",
      "metadata": {
        "id": "744350f0",
        "outputId": "c24e7cfb-cbcb-4f73-b171-636f24c8b1ce"
      },
      "outputs": [
        {
          "data": {
            "image/png": "[encoded data removed]",
            "text/plain": [
              "<Figure size 432x288 with 1 Axes>"
            ]
          },
          "metadata": {
            "needs_background": "light"
          },
          "output_type": "display_data"
        }
      ],
      "source": [
        "# Plot serie logaritmica e previsione\n",
        "plt.plot(level+y_features+y_seas, label = 'Stima')\n",
        "plt.plot(Y_sarima, label = 'Log Livello_Acqua')\n",
        "plt.legend()\n",
        "plt.show()\n",
        "# Ad occhio è un buon risultato tranne nel periodo in cui il Livello ha un periodo di minimo/abbassamento"
      ]
    },
    {
      "cell_type": "code",
      "execution_count": 20,
      "id": "12eab206",
      "metadata": {
        "id": "12eab206",
        "outputId": "caef8e45-67a9-4230-8482-103b127270ae"
      },
      "outputs": [
        {
          "data": {
            "image/png": "[encoded data removed]",
            "text/plain": [
              "<Figure size 432x288 with 1 Axes>"
            ]
          },
          "metadata": {
            "needs_background": "light"
          },
          "output_type": "display_data"
        }
      ],
      "source": [
        "# Plot dei residui\n",
        "residuals = results_reg_sarima.resid\n",
        "plt.plot(residuals)\n",
        "plt.show()"
      ]
    },
    {
      "cell_type": "code",
      "execution_count": 21,
      "id": "93a7e239",
      "metadata": {
        "id": "93a7e239",
        "outputId": "6d924fe8-c8b5-4228-c8e3-c32c9b8d566d"
      },
      "outputs": [
        {
          "data": {
            "image/png": "[encoded data removed]",
            "text/plain": [
              "<Figure size 432x288 with 1 Axes>"
            ]
          },
          "metadata": {
            "needs_background": "light"
          },
          "output_type": "display_data"
        }
      ],
      "source": [
        "# Acf residui\n",
        "plot_acf(residuals, lags = 800)\n",
        "plt.show()"
      ]
    },
    {
      "cell_type": "code",
      "execution_count": 22,
      "id": "0ce4bae5",
      "metadata": {
        "id": "0ce4bae5",
        "outputId": "042a1a59-64a5-432c-cfb2-ee67a09d52b0"
      },
      "outputs": [
        {
          "data": {
            "image/png": "[encoded data removed]",
            "text/plain": [
              "<Figure size 432x288 with 1 Axes>"
            ]
          },
          "metadata": {
            "needs_background": "light"
          },
          "output_type": "display_data"
        }
      ],
      "source": [
        "# Pacf residui\n",
        "plot_pacf(residuals, lags = 100, method = 'ywm')\n",
        "plt.show()"
      ]
    },
    {
      "cell_type": "code",
      "execution_count": 23,
      "id": "301148ae",
      "metadata": {},
      "outputs": [
        {
          "data": {
            "text/html": [
              "<div>\n",
              "<style scoped>\n",
              "    .dataframe tbody tr th:only-of-type {\n",
              "        vertical-align: middle;\n",
              "    }\n",
              "\n",
              "    .dataframe tbody tr th {\n",
              "        vertical-align: top;\n",
              "    }\n",
              "\n",
              "    .dataframe thead th {\n",
              "        text-align: right;\n",
              "    }\n",
              "</style>\n",
              "<table border=\"1\" class=\"dataframe\">\n",
              "  <thead>\n",
              "    <tr style=\"text-align: right;\">\n",
              "      <th></th>\n",
              "      <th>Intercetta</th>\n",
              "      <th>Pioggia_Totale</th>\n",
              "      <th>Temperatura_Zona_5</th>\n",
              "      <th>Time</th>\n",
              "      <th>Time_square</th>\n",
              "      <th>cc_1</th>\n",
              "      <th>cc_2</th>\n",
              "      <th>ss_1</th>\n",
              "      <th>ss_2</th>\n",
              "    </tr>\n",
              "  </thead>\n",
              "  <tbody>\n",
              "    <tr>\n",
              "      <th>0</th>\n",
              "      <td>1</td>\n",
              "      <td>-0.391247</td>\n",
              "      <td>-1.164693</td>\n",
              "      <td>1</td>\n",
              "      <td>1</td>\n",
              "      <td>0.999852</td>\n",
              "      <td>0.999408</td>\n",
              "      <td>0.017202</td>\n",
              "      <td>0.034398</td>\n",
              "    </tr>\n",
              "    <tr>\n",
              "      <th>1</th>\n",
              "      <td>1</td>\n",
              "      <td>-0.391247</td>\n",
              "      <td>-1.460430</td>\n",
              "      <td>2</td>\n",
              "      <td>4</td>\n",
              "      <td>0.999408</td>\n",
              "      <td>0.997634</td>\n",
              "      <td>0.034398</td>\n",
              "      <td>0.068755</td>\n",
              "    </tr>\n",
              "    <tr>\n",
              "      <th>2</th>\n",
              "      <td>1</td>\n",
              "      <td>-0.391247</td>\n",
              "      <td>-1.813872</td>\n",
              "      <td>3</td>\n",
              "      <td>9</td>\n",
              "      <td>0.998669</td>\n",
              "      <td>0.994678</td>\n",
              "      <td>0.051584</td>\n",
              "      <td>0.103031</td>\n",
              "    </tr>\n",
              "    <tr>\n",
              "      <th>3</th>\n",
              "      <td>1</td>\n",
              "      <td>-0.385787</td>\n",
              "      <td>-1.972560</td>\n",
              "      <td>4</td>\n",
              "      <td>16</td>\n",
              "      <td>0.997634</td>\n",
              "      <td>0.990545</td>\n",
              "      <td>0.068755</td>\n",
              "      <td>0.137185</td>\n",
              "    </tr>\n",
              "    <tr>\n",
              "      <th>4</th>\n",
              "      <td>1</td>\n",
              "      <td>-0.391247</td>\n",
              "      <td>-1.777807</td>\n",
              "      <td>5</td>\n",
              "      <td>25</td>\n",
              "      <td>0.996303</td>\n",
              "      <td>0.985240</td>\n",
              "      <td>0.085906</td>\n",
              "      <td>0.171177</td>\n",
              "    </tr>\n",
              "    <tr>\n",
              "      <th>...</th>\n",
              "      <td>...</td>\n",
              "      <td>...</td>\n",
              "      <td>...</td>\n",
              "      <td>...</td>\n",
              "      <td>...</td>\n",
              "      <td>...</td>\n",
              "      <td>...</td>\n",
              "      <td>...</td>\n",
              "      <td>...</td>\n",
              "    </tr>\n",
              "    <tr>\n",
              "      <th>4808</th>\n",
              "      <td>1</td>\n",
              "      <td>-0.391247</td>\n",
              "      <td>-0.760759</td>\n",
              "      <td>4809</td>\n",
              "      <td>23126481</td>\n",
              "      <td>0.501861</td>\n",
              "      <td>-0.496271</td>\n",
              "      <td>0.864948</td>\n",
              "      <td>0.868168</td>\n",
              "    </tr>\n",
              "    <tr>\n",
              "      <th>4809</th>\n",
              "      <td>1</td>\n",
              "      <td>1.607224</td>\n",
              "      <td>-0.479449</td>\n",
              "      <td>4810</td>\n",
              "      <td>23136100</td>\n",
              "      <td>0.486908</td>\n",
              "      <td>-0.525841</td>\n",
              "      <td>0.873453</td>\n",
              "      <td>0.850583</td>\n",
              "    </tr>\n",
              "    <tr>\n",
              "      <th>4810</th>\n",
              "      <td>1</td>\n",
              "      <td>1.781953</td>\n",
              "      <td>-0.883382</td>\n",
              "      <td>4811</td>\n",
              "      <td>23145721</td>\n",
              "      <td>0.471812</td>\n",
              "      <td>-0.554788</td>\n",
              "      <td>0.881699</td>\n",
              "      <td>0.831992</td>\n",
              "    </tr>\n",
              "    <tr>\n",
              "      <th>4811</th>\n",
              "      <td>1</td>\n",
              "      <td>4.353756</td>\n",
              "      <td>-1.135841</td>\n",
              "      <td>4812</td>\n",
              "      <td>23155344</td>\n",
              "      <td>0.456575</td>\n",
              "      <td>-0.583078</td>\n",
              "      <td>0.889685</td>\n",
              "      <td>0.812416</td>\n",
              "    </tr>\n",
              "    <tr>\n",
              "      <th>4812</th>\n",
              "      <td>1</td>\n",
              "      <td>-0.314803</td>\n",
              "      <td>-0.905021</td>\n",
              "      <td>4813</td>\n",
              "      <td>23164969</td>\n",
              "      <td>0.441204</td>\n",
              "      <td>-0.610679</td>\n",
              "      <td>0.897407</td>\n",
              "      <td>0.791878</td>\n",
              "    </tr>\n",
              "  </tbody>\n",
              "</table>\n",
              "<p>4813 rows × 9 columns</p>\n",
              "</div>"
            ],
            "text/plain": [
              "      Intercetta  Pioggia_Totale  Temperatura_Zona_5  Time  Time_square  \\\n",
              "0              1       -0.391247           -1.164693     1            1   \n",
              "1              1       -0.391247           -1.460430     2            4   \n",
              "2              1       -0.391247           -1.813872     3            9   \n",
              "3              1       -0.385787           -1.972560     4           16   \n",
              "4              1       -0.391247           -1.777807     5           25   \n",
              "...          ...             ...                 ...   ...          ...   \n",
              "4808           1       -0.391247           -0.760759  4809     23126481   \n",
              "4809           1        1.607224           -0.479449  4810     23136100   \n",
              "4810           1        1.781953           -0.883382  4811     23145721   \n",
              "4811           1        4.353756           -1.135841  4812     23155344   \n",
              "4812           1       -0.314803           -0.905021  4813     23164969   \n",
              "\n",
              "          cc_1      cc_2      ss_1      ss_2  \n",
              "0     0.999852  0.999408  0.017202  0.034398  \n",
              "1     0.999408  0.997634  0.034398  0.068755  \n",
              "2     0.998669  0.994678  0.051584  0.103031  \n",
              "3     0.997634  0.990545  0.068755  0.137185  \n",
              "4     0.996303  0.985240  0.085906  0.171177  \n",
              "...        ...       ...       ...       ...  \n",
              "4808  0.501861 -0.496271  0.864948  0.868168  \n",
              "4809  0.486908 -0.525841  0.873453  0.850583  \n",
              "4810  0.471812 -0.554788  0.881699  0.831992  \n",
              "4811  0.456575 -0.583078  0.889685  0.812416  \n",
              "4812  0.441204 -0.610679  0.897407  0.791878  \n",
              "\n",
              "[4813 rows x 9 columns]"
            ]
          },
          "execution_count": 23,
          "metadata": {},
          "output_type": "execute_result"
        }
      ],
      "source": [
        "# Nuovo dataset\n",
        "X_sarima"
      ]
    },
    {
      "cell_type": "code",
      "execution_count": 24,
      "id": "b5eac497",
      "metadata": {
        "id": "b5eac497"
      },
      "outputs": [],
      "source": [
        "exog = X_sarima[['Pioggia_Totale', 'Temperatura_Zona_5', 'cc_1','ss_1','cc_2','ss_2']]\n",
        "# Studiamo il modello su tutta la serie\n",
        "# Poi lo valutiamo applicando la cross validation\n",
        "model = SARIMAX(Y_sarima, exog = exog, order=(3, 1, 0))"
      ]
    },
    {
      "cell_type": "code",
      "execution_count": 25,
      "id": "e7e177cb",
      "metadata": {
        "id": "e7e177cb",
        "outputId": "fc116ac0-a550-49d3-f7cf-7c33827dd6fd"
      },
      "outputs": [
        {
          "name": "stdout",
          "output_type": "stream",
          "text": [
            "Optimization terminated successfully.\n",
            "         Current function value: -4.345149\n",
            "         Iterations: 288\n",
            "         Function evaluations: 425\n",
            "Wall time: 3.82 s\n"
          ]
        }
      ],
      "source": [
        "%%time\n",
        "# fit del modello\n",
        "model_fit = model.fit(method = 'nm', maxiter = 3000, disp = True) #nm"
      ]
    },
    {
      "cell_type": "code",
      "execution_count": 26,
      "id": "3d1bcd24",
      "metadata": {
        "id": "3d1bcd24"
      },
      "outputs": [],
      "source": [
        "# Residui\n",
        "residui = model_fit.resid"
      ]
    },
    {
      "cell_type": "code",
      "execution_count": 27,
      "id": "44568190",
      "metadata": {
        "id": "44568190",
        "outputId": "49d76b11-bb46-4cb9-a742-a3bfb6fa411b"
      },
      "outputs": [
        {
          "data": {
            "image/png": "[encoded data removed]",
            "text/plain": [
              "<Figure size 432x288 with 1 Axes>"
            ]
          },
          "metadata": {
            "needs_background": "light"
          },
          "output_type": "display_data"
        }
      ],
      "source": [
        "# acf\n",
        "plot_acf(residui, lags = 100)\n",
        "plt.show()"
      ]
    },
    {
      "cell_type": "code",
      "execution_count": 28,
      "id": "1b6719ef",
      "metadata": {
        "id": "1b6719ef",
        "outputId": "b8d12078-cd5e-4b0e-c59f-b192a24a41c4"
      },
      "outputs": [
        {
          "data": {
            "image/png": "[encoded data removed]",
            "text/plain": [
              "<Figure size 432x288 with 1 Axes>"
            ]
          },
          "metadata": {
            "needs_background": "light"
          },
          "output_type": "display_data"
        }
      ],
      "source": [
        "# pacf\n",
        "plot_pacf(residui, lags = 100, method = 'ywm')\n",
        "plt.show()"
      ]
    },
    {
      "cell_type": "code",
      "execution_count": 29,
      "id": "ebe09065",
      "metadata": {
        "id": "ebe09065",
        "outputId": "8f9792fa-2bbc-4504-e7cd-6bd67783335c"
      },
      "outputs": [
        {
          "name": "stdout",
          "output_type": "stream",
          "text": [
            "AIC -41806.40591163172\n",
            "BIC -41741.61723086078\n"
          ]
        }
      ],
      "source": [
        "# indici AIC e BIC\n",
        "print('AIC', model_fit.aic)\n",
        "print('BIC', model_fit.bic)"
      ]
    },
    {
      "cell_type": "code",
      "execution_count": 30,
      "id": "903e596c",
      "metadata": {
        "id": "903e596c"
      },
      "outputs": [],
      "source": [
        "# Salvo il modello\n",
        "model_fit.save('../Models/arima_Livello_Acqua.pkl')"
      ]
    },
    {
      "cell_type": "markdown",
      "id": "5d0d881d",
      "metadata": {
        "id": "5d0d881d"
      },
      "source": [
        "### Cross Validation"
      ]
    },
    {
      "cell_type": "code",
      "execution_count": 31,
      "id": "7588d92c",
      "metadata": {
        "id": "7588d92c"
      },
      "outputs": [],
      "source": [
        "# Definizione parametri\n",
        "Sarima_parametri = {'order' :(3, 1, 0)}\n",
        "# Senza trend"
      ]
    },
    {
      "cell_type": "code",
      "execution_count": 32,
      "id": "b2deeb85",
      "metadata": {
        "id": "b2deeb85"
      },
      "outputs": [],
      "source": [
        "# Definizione attributi esterni\n",
        "f_exog = ['Pioggia_Totale', 'Temperatura_Zona_5', 'cc_1','ss_1','cc_2','ss_2']"
      ]
    },
    {
      "cell_type": "code",
      "execution_count": 33,
      "id": "22adfc41",
      "metadata": {
        "id": "22adfc41",
        "outputId": "5e3cf83c-d7c1-4ba3-aa38-3e70a63b0da0"
      },
      "outputs": [
        {
          "name": "stdout",
          "output_type": "stream",
          "text": [
            "MSE ARIMAX Livello 0.173\n",
            "Wall time: 6min 7s\n"
          ]
        }
      ],
      "source": [
        "%%time\n",
        "# Cross validation\n",
        "mse_arimax_livello = cross_validation('Sarimax', Sarima_parametri, df_sarima_livello, 'Log_Livello_Acqua', f_exog = f_exog, n_splits = 100)\n",
        "print('MSE ARIMAX Livello', round(mse_arimax_livello,3))\n"
      ]
    },
    {
      "cell_type": "markdown",
      "id": "378b3e64",
      "metadata": {
        "id": "378b3e64"
      },
      "source": [
        "## Portata Uscita"
      ]
    },
    {
      "cell_type": "code",
      "execution_count": 159,
      "id": "5386f6ad",
      "metadata": {},
      "outputs": [
        {
          "data": {
            "text/html": [
              "<div>\n",
              "<style scoped>\n",
              "    .dataframe tbody tr th:only-of-type {\n",
              "        vertical-align: middle;\n",
              "    }\n",
              "\n",
              "    .dataframe tbody tr th {\n",
              "        vertical-align: top;\n",
              "    }\n",
              "\n",
              "    .dataframe thead th {\n",
              "        text-align: right;\n",
              "    }\n",
              "</style>\n",
              "<table border=\"1\" class=\"dataframe\">\n",
              "  <thead>\n",
              "    <tr style=\"text-align: right;\">\n",
              "      <th></th>\n",
              "      <th>Intercetta</th>\n",
              "      <th>Livello_Acqua</th>\n",
              "      <th>Livello_Acqua_square</th>\n",
              "      <th>Log_Portata_Uscita</th>\n",
              "      <th>Pioggia_Totale</th>\n",
              "      <th>Temperatura_Zona_5</th>\n",
              "      <th>Time</th>\n",
              "      <th>cc_1</th>\n",
              "      <th>cc_2</th>\n",
              "      <th>ss_1</th>\n",
              "      <th>ss_2</th>\n",
              "    </tr>\n",
              "  </thead>\n",
              "  <tbody>\n",
              "    <tr>\n",
              "      <th>0</th>\n",
              "      <td>1</td>\n",
              "      <td>0.745450</td>\n",
              "      <td>0.555696</td>\n",
              "      <td>-0.693147</td>\n",
              "      <td>-0.391247</td>\n",
              "      <td>-1.164693</td>\n",
              "      <td>0.638961</td>\n",
              "      <td>0.999852</td>\n",
              "      <td>0.999408</td>\n",
              "      <td>0.017202</td>\n",
              "      <td>0.034398</td>\n",
              "    </tr>\n",
              "    <tr>\n",
              "      <th>1</th>\n",
              "      <td>1</td>\n",
              "      <td>0.776161</td>\n",
              "      <td>0.602427</td>\n",
              "      <td>-0.693147</td>\n",
              "      <td>-0.391247</td>\n",
              "      <td>-1.460430</td>\n",
              "      <td>0.890577</td>\n",
              "      <td>0.999408</td>\n",
              "      <td>0.997634</td>\n",
              "      <td>0.034398</td>\n",
              "      <td>0.068755</td>\n",
              "    </tr>\n",
              "    <tr>\n",
              "      <th>2</th>\n",
              "      <td>1</td>\n",
              "      <td>0.806873</td>\n",
              "      <td>0.651043</td>\n",
              "      <td>-0.693147</td>\n",
              "      <td>-0.391247</td>\n",
              "      <td>-1.813872</td>\n",
              "      <td>0.983028</td>\n",
              "      <td>0.998669</td>\n",
              "      <td>0.994678</td>\n",
              "      <td>0.051584</td>\n",
              "      <td>0.103031</td>\n",
              "    </tr>\n",
              "    <tr>\n",
              "      <th>3</th>\n",
              "      <td>1</td>\n",
              "      <td>0.815647</td>\n",
              "      <td>0.665280</td>\n",
              "      <td>-0.693147</td>\n",
              "      <td>-0.385787</td>\n",
              "      <td>-1.972560</td>\n",
              "      <td>0.999254</td>\n",
              "      <td>0.997634</td>\n",
              "      <td>0.990545</td>\n",
              "      <td>0.068755</td>\n",
              "      <td>0.137185</td>\n",
              "    </tr>\n",
              "    <tr>\n",
              "      <th>4</th>\n",
              "      <td>1</td>\n",
              "      <td>0.837584</td>\n",
              "      <td>0.701547</td>\n",
              "      <td>-0.693147</td>\n",
              "      <td>-0.391247</td>\n",
              "      <td>-1.777807</td>\n",
              "      <td>0.975687</td>\n",
              "      <td>0.996303</td>\n",
              "      <td>0.985240</td>\n",
              "      <td>0.085906</td>\n",
              "      <td>0.171177</td>\n",
              "    </tr>\n",
              "    <tr>\n",
              "      <th>...</th>\n",
              "      <td>...</td>\n",
              "      <td>...</td>\n",
              "      <td>...</td>\n",
              "      <td>...</td>\n",
              "      <td>...</td>\n",
              "      <td>...</td>\n",
              "      <td>...</td>\n",
              "      <td>...</td>\n",
              "      <td>...</td>\n",
              "      <td>...</td>\n",
              "      <td>...</td>\n",
              "    </tr>\n",
              "    <tr>\n",
              "      <th>4808</th>\n",
              "      <td>1</td>\n",
              "      <td>0.622606</td>\n",
              "      <td>0.387638</td>\n",
              "      <td>1.945910</td>\n",
              "      <td>-0.391247</td>\n",
              "      <td>-0.760759</td>\n",
              "      <td>0.811273</td>\n",
              "      <td>0.501861</td>\n",
              "      <td>-0.496271</td>\n",
              "      <td>0.864948</td>\n",
              "      <td>0.868168</td>\n",
              "    </tr>\n",
              "    <tr>\n",
              "      <th>4809</th>\n",
              "      <td>1</td>\n",
              "      <td>0.622606</td>\n",
              "      <td>0.387638</td>\n",
              "      <td>1.945910</td>\n",
              "      <td>1.607224</td>\n",
              "      <td>-0.479449</td>\n",
              "      <td>0.811151</td>\n",
              "      <td>0.486908</td>\n",
              "      <td>-0.525841</td>\n",
              "      <td>0.873453</td>\n",
              "      <td>0.850583</td>\n",
              "    </tr>\n",
              "    <tr>\n",
              "      <th>4810</th>\n",
              "      <td>1</td>\n",
              "      <td>0.605056</td>\n",
              "      <td>0.366093</td>\n",
              "      <td>1.945910</td>\n",
              "      <td>1.781953</td>\n",
              "      <td>-0.883382</td>\n",
              "      <td>0.811030</td>\n",
              "      <td>0.471812</td>\n",
              "      <td>-0.554788</td>\n",
              "      <td>0.881699</td>\n",
              "      <td>0.831992</td>\n",
              "    </tr>\n",
              "    <tr>\n",
              "      <th>4811</th>\n",
              "      <td>1</td>\n",
              "      <td>0.626993</td>\n",
              "      <td>0.393120</td>\n",
              "      <td>1.945910</td>\n",
              "      <td>4.353756</td>\n",
              "      <td>-1.135841</td>\n",
              "      <td>0.810908</td>\n",
              "      <td>0.456575</td>\n",
              "      <td>-0.583078</td>\n",
              "      <td>0.889685</td>\n",
              "      <td>0.812416</td>\n",
              "    </tr>\n",
              "    <tr>\n",
              "      <th>4812</th>\n",
              "      <td>1</td>\n",
              "      <td>0.684028</td>\n",
              "      <td>0.467894</td>\n",
              "      <td>1.945910</td>\n",
              "      <td>-0.314803</td>\n",
              "      <td>-0.905021</td>\n",
              "      <td>0.810786</td>\n",
              "      <td>0.441204</td>\n",
              "      <td>-0.610679</td>\n",
              "      <td>0.897407</td>\n",
              "      <td>0.791878</td>\n",
              "    </tr>\n",
              "  </tbody>\n",
              "</table>\n",
              "<p>4813 rows × 11 columns</p>\n",
              "</div>"
            ],
            "text/plain": [
              "      Intercetta  Livello_Acqua  Livello_Acqua_square  Log_Portata_Uscita  \\\n",
              "0              1       0.745450              0.555696           -0.693147   \n",
              "1              1       0.776161              0.602427           -0.693147   \n",
              "2              1       0.806873              0.651043           -0.693147   \n",
              "3              1       0.815647              0.665280           -0.693147   \n",
              "4              1       0.837584              0.701547           -0.693147   \n",
              "...          ...            ...                   ...                 ...   \n",
              "4808           1       0.622606              0.387638            1.945910   \n",
              "4809           1       0.622606              0.387638            1.945910   \n",
              "4810           1       0.605056              0.366093            1.945910   \n",
              "4811           1       0.626993              0.393120            1.945910   \n",
              "4812           1       0.684028              0.467894            1.945910   \n",
              "\n",
              "      Pioggia_Totale  Temperatura_Zona_5      Time      cc_1      cc_2  \\\n",
              "0          -0.391247           -1.164693  0.638961  0.999852  0.999408   \n",
              "1          -0.391247           -1.460430  0.890577  0.999408  0.997634   \n",
              "2          -0.391247           -1.813872  0.983028  0.998669  0.994678   \n",
              "3          -0.385787           -1.972560  0.999254  0.997634  0.990545   \n",
              "4          -0.391247           -1.777807  0.975687  0.996303  0.985240   \n",
              "...              ...                 ...       ...       ...       ...   \n",
              "4808       -0.391247           -0.760759  0.811273  0.501861 -0.496271   \n",
              "4809        1.607224           -0.479449  0.811151  0.486908 -0.525841   \n",
              "4810        1.781953           -0.883382  0.811030  0.471812 -0.554788   \n",
              "4811        4.353756           -1.135841  0.810908  0.456575 -0.583078   \n",
              "4812       -0.314803           -0.905021  0.810786  0.441204 -0.610679   \n",
              "\n",
              "          ss_1      ss_2  \n",
              "0     0.017202  0.034398  \n",
              "1     0.034398  0.068755  \n",
              "2     0.051584  0.103031  \n",
              "3     0.068755  0.137185  \n",
              "4     0.085906  0.171177  \n",
              "...        ...       ...  \n",
              "4808  0.864948  0.868168  \n",
              "4809  0.873453  0.850583  \n",
              "4810  0.881699  0.831992  \n",
              "4811  0.889685  0.812416  \n",
              "4812  0.897407  0.791878  \n",
              "\n",
              "[4813 rows x 11 columns]"
            ]
          },
          "execution_count": 159,
          "metadata": {},
          "output_type": "execute_result"
        }
      ],
      "source": [
        "X=pd.read_pickle('###', compression='zip')\n",
        "df_sarima_portata = X[X.columns.difference(['Data','Year', 'Portata_Uscita'])]\n",
        "df_sarima_portata"
      ]
    },
    {
      "cell_type": "code",
      "execution_count": 160,
      "id": "fab8433d",
      "metadata": {
        "id": "fab8433d"
      },
      "outputs": [],
      "source": [
        "# Applichiamo un modello lineare per poi studiarne i residui\n",
        "X_sarima = df_sarima_portata[df_sarima_portata.columns.difference(['Log_Portata_Uscita'])]\n",
        "Y_sarima = df_sarima_portata['Log_Portata_Uscita']\n",
        "regr_sarima = sm.OLS(Y_sarima, X_sarima)\n",
        "results_reg_sarima = regr_sarima.fit()"
      ]
    },
    {
      "cell_type": "code",
      "execution_count": 161,
      "id": "dbe72c59",
      "metadata": {
        "id": "dbe72c59",
        "outputId": "2ac85d41-e5dc-405f-9a6b-53bcd1d76dc7"
      },
      "outputs": [
        {
          "name": "stdout",
          "output_type": "stream",
          "text": [
            "                            OLS Regression Results                            \n",
            "==============================================================================\n",
            "Dep. Variable:     Log_Portata_Uscita   R-squared:                       0.508\n",
            "Model:                            OLS   Adj. R-squared:                  0.507\n",
            "Method:                 Least Squares   F-statistic:                     550.1\n",
            "Date:                Fri, 24 Jun 2022   Prob (F-statistic):               0.00\n",
            "Time:                        23:50:04   Log-Likelihood:                -4948.1\n",
            "No. Observations:                4813   AIC:                             9916.\n",
            "Df Residuals:                    4803   BIC:                             9981.\n",
            "Df Model:                           9                                         \n",
            "Covariance Type:            nonrobust                                         \n",
            "========================================================================================\n",
            "                           coef    std err          t      P>|t|      [0.025      0.975]\n",
            "----------------------------------------------------------------------------------------\n",
            "Intercetta               0.1145      0.022      5.276      0.000       0.072       0.157\n",
            "Livello_Acqua            0.9809      0.018     54.170      0.000       0.945       1.016\n",
            "Livello_Acqua_square     0.2933      0.012     25.173      0.000       0.270       0.316\n",
            "Pioggia_Totale           0.0960      0.010      9.694      0.000       0.077       0.115\n",
            "Temperatura_Zona_5       0.0553      0.023      2.377      0.017       0.010       0.101\n",
            "Time                     0.1843      0.021      8.753      0.000       0.143       0.226\n",
            "cc_1                     0.5088      0.032     15.962      0.000       0.446       0.571\n",
            "cc_2                    -0.4122      0.014    -28.909      0.000      -0.440      -0.384\n",
            "ss_1                    -0.7429      0.022    -33.989      0.000      -0.786      -0.700\n",
            "ss_2                     0.3996      0.014     27.711      0.000       0.371       0.428\n",
            "==============================================================================\n",
            "Omnibus:                      190.344   Durbin-Watson:                   0.154\n",
            "Prob(Omnibus):                  0.000   Jarque-Bera (JB):              318.716\n",
            "Skew:                           0.338   Prob(JB):                     6.19e-70\n",
            "Kurtosis:                       4.064   Cond. No.                         7.69\n",
            "==============================================================================\n",
            "\n",
            "Notes:\n",
            "[1] Standard Errors assume that the covariance matrix of the errors is correctly specified.\n"
          ]
        }
      ],
      "source": [
        "# Risultati\n",
        "params = results_reg_sarima.params\n",
        "print(results_reg_sarima.summary())"
      ]
    },
    {
      "cell_type": "code",
      "execution_count": 145,
      "id": "491629f7",
      "metadata": {
        "id": "491629f7"
      },
      "outputs": [],
      "source": [
        "num_sinusoidi = 2\n",
        "omega = np.outer(range(1,len(df_sarima_portata)+1), range(1,num_sinusoidi+1)) * 2 * math.pi / (365.25)\n",
        "cc = np.cos(omega)\n",
        "ss = np.sin(omega)\n",
        "\n",
        "t = np.array(range(1,len(df_sarima_portata)+1))\n",
        "\n",
        "level = params[0] + params[5]*df_sarima_portata['Time']\n",
        "y_features = params[1]*df_sarima_portata['Livello_Acqua'] +params[2]*df_sarima_portata['Livello_Acqua_square'] + params[3]*df_sarima_portata['Pioggia_Totale'] +params[4]*df_sarima_portata['Temperatura_Zona_5'] \n",
        "y_seas = cc.dot(params[6:(6+num_sinusoidi)]) + ss.dot(params[(6+num_sinusoidi):])\n"
      ]
    },
    {
      "cell_type": "code",
      "execution_count": 146,
      "id": "634ad312",
      "metadata": {
        "id": "634ad312",
        "outputId": "82acc769-90b2-4ecf-af04-08de867f7db0"
      },
      "outputs": [
        {
          "data": {
            "image/png": "[encoded data removed]",
            "text/plain": [
              "<Figure size 720x360 with 1 Axes>"
            ]
          },
          "metadata": {
            "needs_background": "light"
          },
          "output_type": "display_data"
        }
      ],
      "source": [
        "# Serie reale e predetta\n",
        "plt.plot(level+y_seas+y_features)\n",
        "plt.plot(Y_sarima)\n",
        "plt.show()"
      ]
    },
    {
      "cell_type": "code",
      "execution_count": 147,
      "id": "bc78c71e",
      "metadata": {
        "id": "bc78c71e"
      },
      "outputs": [],
      "source": [
        "# Residui\n",
        "residuals = results_reg_sarima.resid"
      ]
    },
    {
      "cell_type": "code",
      "execution_count": 148,
      "id": "f29cb884",
      "metadata": {
        "id": "f29cb884",
        "outputId": "7d4ae04b-a88c-4211-a9dd-2d97b79b0525"
      },
      "outputs": [
        {
          "data": {
            "image/png": "[encoded data removed]",
            "text/plain": [
              "<Figure size 720x360 with 1 Axes>"
            ]
          },
          "metadata": {
            "needs_background": "light"
          },
          "output_type": "display_data"
        }
      ],
      "source": [
        "# Plot residui\n",
        "plt.plot(residuals)\n",
        "plt.show()"
      ]
    },
    {
      "cell_type": "code",
      "execution_count": 149,
      "id": "5ac7f25a",
      "metadata": {
        "id": "5ac7f25a",
        "outputId": "65816d05-db3b-4062-a120-8cd728a7f63f"
      },
      "outputs": [
        {
          "data": {
            "image/png": "[encoded data removed]",
            "text/plain": [
              "<Figure size 720x360 with 1 Axes>"
            ]
          },
          "metadata": {
            "needs_background": "light"
          },
          "output_type": "display_data"
        }
      ],
      "source": [
        "# Acf\n",
        "plot_acf(residuals, lags = 750)\n",
        "plt.show()"
      ]
    },
    {
      "cell_type": "code",
      "execution_count": 150,
      "id": "fd75960d",
      "metadata": {
        "id": "fd75960d",
        "outputId": "83935da3-e45a-4bbe-e5aa-bcf8972556a8"
      },
      "outputs": [
        {
          "data": {
            "image/png": "[encoded data removed]",
            "text/plain": [
              "<Figure size 720x360 with 1 Axes>"
            ]
          },
          "metadata": {
            "needs_background": "light"
          },
          "output_type": "display_data"
        }
      ],
      "source": [
        "# Pacf\n",
        "plot_pacf(residuals, lags = 30, method = 'ywm')\n",
        "plt.show()"
      ]
    },
    {
      "cell_type": "code",
      "execution_count": 151,
      "id": "e650c095",
      "metadata": {},
      "outputs": [
        {
          "data": {
            "text/html": [
              "<div>\n",
              "<style scoped>\n",
              "    .dataframe tbody tr th:only-of-type {\n",
              "        vertical-align: middle;\n",
              "    }\n",
              "\n",
              "    .dataframe tbody tr th {\n",
              "        vertical-align: top;\n",
              "    }\n",
              "\n",
              "    .dataframe thead th {\n",
              "        text-align: right;\n",
              "    }\n",
              "</style>\n",
              "<table border=\"1\" class=\"dataframe\">\n",
              "  <thead>\n",
              "    <tr style=\"text-align: right;\">\n",
              "      <th></th>\n",
              "      <th>Intercetta</th>\n",
              "      <th>Livello_Acqua</th>\n",
              "      <th>Livello_Acqua_square</th>\n",
              "      <th>Pioggia_Totale</th>\n",
              "      <th>Temperatura_Zona_5</th>\n",
              "      <th>Time</th>\n",
              "      <th>cc_1</th>\n",
              "      <th>cc_2</th>\n",
              "      <th>ss_1</th>\n",
              "      <th>ss_2</th>\n",
              "    </tr>\n",
              "  </thead>\n",
              "  <tbody>\n",
              "    <tr>\n",
              "      <th>0</th>\n",
              "      <td>1</td>\n",
              "      <td>0.745450</td>\n",
              "      <td>0.555696</td>\n",
              "      <td>-0.391247</td>\n",
              "      <td>-1.164693</td>\n",
              "      <td>0.638961</td>\n",
              "      <td>0.999852</td>\n",
              "      <td>0.999408</td>\n",
              "      <td>0.017202</td>\n",
              "      <td>0.034398</td>\n",
              "    </tr>\n",
              "    <tr>\n",
              "      <th>1</th>\n",
              "      <td>1</td>\n",
              "      <td>0.776161</td>\n",
              "      <td>0.602427</td>\n",
              "      <td>-0.391247</td>\n",
              "      <td>-1.460430</td>\n",
              "      <td>0.890577</td>\n",
              "      <td>0.999408</td>\n",
              "      <td>0.997634</td>\n",
              "      <td>0.034398</td>\n",
              "      <td>0.068755</td>\n",
              "    </tr>\n",
              "    <tr>\n",
              "      <th>2</th>\n",
              "      <td>1</td>\n",
              "      <td>0.806873</td>\n",
              "      <td>0.651043</td>\n",
              "      <td>-0.391247</td>\n",
              "      <td>-1.813872</td>\n",
              "      <td>0.983028</td>\n",
              "      <td>0.998669</td>\n",
              "      <td>0.994678</td>\n",
              "      <td>0.051584</td>\n",
              "      <td>0.103031</td>\n",
              "    </tr>\n",
              "    <tr>\n",
              "      <th>3</th>\n",
              "      <td>1</td>\n",
              "      <td>0.815647</td>\n",
              "      <td>0.665280</td>\n",
              "      <td>-0.385787</td>\n",
              "      <td>-1.972560</td>\n",
              "      <td>0.999254</td>\n",
              "      <td>0.997634</td>\n",
              "      <td>0.990545</td>\n",
              "      <td>0.068755</td>\n",
              "      <td>0.137185</td>\n",
              "    </tr>\n",
              "    <tr>\n",
              "      <th>4</th>\n",
              "      <td>1</td>\n",
              "      <td>0.837584</td>\n",
              "      <td>0.701547</td>\n",
              "      <td>-0.391247</td>\n",
              "      <td>-1.777807</td>\n",
              "      <td>0.975687</td>\n",
              "      <td>0.996303</td>\n",
              "      <td>0.985240</td>\n",
              "      <td>0.085906</td>\n",
              "      <td>0.171177</td>\n",
              "    </tr>\n",
              "  </tbody>\n",
              "</table>\n",
              "</div>"
            ],
            "text/plain": [
              "   Intercetta  Livello_Acqua  Livello_Acqua_square  Pioggia_Totale  \\\n",
              "0           1       0.745450              0.555696       -0.391247   \n",
              "1           1       0.776161              0.602427       -0.391247   \n",
              "2           1       0.806873              0.651043       -0.391247   \n",
              "3           1       0.815647              0.665280       -0.385787   \n",
              "4           1       0.837584              0.701547       -0.391247   \n",
              "\n",
              "   Temperatura_Zona_5      Time      cc_1      cc_2      ss_1      ss_2  \n",
              "0           -1.164693  0.638961  0.999852  0.999408  0.017202  0.034398  \n",
              "1           -1.460430  0.890577  0.999408  0.997634  0.034398  0.068755  \n",
              "2           -1.813872  0.983028  0.998669  0.994678  0.051584  0.103031  \n",
              "3           -1.972560  0.999254  0.997634  0.990545  0.068755  0.137185  \n",
              "4           -1.777807  0.975687  0.996303  0.985240  0.085906  0.171177  "
            ]
          },
          "execution_count": 151,
          "metadata": {},
          "output_type": "execute_result"
        }
      ],
      "source": [
        "# Nuovo dataset\n",
        "X_sarima.head()"
      ]
    },
    {
      "cell_type": "code",
      "execution_count": 152,
      "id": "4a0ac080",
      "metadata": {
        "id": "4a0ac080"
      },
      "outputs": [],
      "source": [
        "# Attributi esterni\n",
        "f_exog = [x for x in X_sarima.columns.values if x !='Intercetta']"
      ]
    },
    {
      "cell_type": "code",
      "execution_count": 153,
      "id": "bddcad99",
      "metadata": {
        "id": "bddcad99"
      },
      "outputs": [],
      "source": [
        "# Definizione modello\n",
        "exog = X_sarima[f_exog]\n",
        "model = SARIMAX(Y_sarima, exog = exog, order=(1, 1, 1))"
      ]
    },
    {
      "cell_type": "code",
      "execution_count": 154,
      "id": "7b163890",
      "metadata": {
        "id": "7b163890",
        "outputId": "455e59a6-72ab-42b3-ade1-8e412ade5595"
      },
      "outputs": [
        {
          "name": "stdout",
          "output_type": "stream",
          "text": [
            "Optimization terminated successfully.\n",
            "         Current function value: -0.020523\n",
            "         Iterations: 1444\n",
            "         Function evaluations: 1996\n",
            "Wall time: 16.4 s\n"
          ]
        }
      ],
      "source": [
        "%%time\n",
        "# Fit\n",
        "model_fit = model.fit(method = 'nm', maxiter = 11000, disp = True)\n"
      ]
    },
    {
      "cell_type": "code",
      "execution_count": 155,
      "id": "7f537aae",
      "metadata": {
        "id": "7f537aae",
        "outputId": "41701f40-0115-43c1-f409-3e9de9d91112"
      },
      "outputs": [
        {
          "data": {
            "image/png": "[encoded data removed]",
            "text/plain": [
              "<Figure size 720x360 with 1 Axes>"
            ]
          },
          "metadata": {
            "needs_background": "light"
          },
          "output_type": "display_data"
        }
      ],
      "source": [
        "# acf\n",
        "resid = model_fit.resid\n",
        "plot_acf(resid, lags = 100)\n",
        "plt.show()"
      ]
    },
    {
      "cell_type": "code",
      "execution_count": 156,
      "id": "1a8fe6d8",
      "metadata": {
        "id": "1a8fe6d8",
        "outputId": "a3eee1a9-eb61-4ddf-b2e9-b79934eb5ad8"
      },
      "outputs": [
        {
          "data": {
            "image/png": "[encoded data removed]",
            "text/plain": [
              "<Figure size 720x360 with 1 Axes>"
            ]
          },
          "metadata": {
            "needs_background": "light"
          },
          "output_type": "display_data"
        }
      ],
      "source": [
        "# pacf\n",
        "plot_pacf(resid, lags = 100, method = 'ywm')\n",
        "plt.show()"
      ]
    },
    {
      "cell_type": "code",
      "execution_count": 157,
      "id": "3ed7069d",
      "metadata": {
        "id": "3ed7069d",
        "outputId": "89b30bdf-fb3c-4a80-b6dd-c93e07bf4fe9"
      },
      "outputs": [
        {
          "name": "stdout",
          "output_type": "stream",
          "text": [
            "AIC -173.5582861740707\n",
            "BIC -95.81186924893586\n"
          ]
        }
      ],
      "source": [
        "# Indici AIC e BIC\n",
        "print('AIC', model_fit.aic)\n",
        "print('BIC', model_fit.bic)"
      ]
    },
    {
      "cell_type": "code",
      "execution_count": 158,
      "id": "2f7bb34c",
      "metadata": {
        "id": "2f7bb34c"
      },
      "outputs": [],
      "source": [
        "# Salvo il modello\n",
        "model_fit.save('../Models/arima_Portata_Uscita.pkl')"
      ]
    },
    {
      "cell_type": "markdown",
      "id": "519ed1e1",
      "metadata": {
        "id": "519ed1e1"
      },
      "source": [
        "### Cross Validation"
      ]
    },
    {
      "cell_type": "code",
      "execution_count": 51,
      "id": "b4b5e3b0",
      "metadata": {
        "id": "b4b5e3b0"
      },
      "outputs": [],
      "source": [
        "# Parametri\n",
        "Sarima_parametri = {'order' :(1, 1, 1)}"
      ]
    },
    {
      "cell_type": "code",
      "execution_count": 52,
      "id": "be2c6262",
      "metadata": {
        "id": "be2c6262",
        "outputId": "200b5917-22aa-40a6-afc7-bf62b6635bc0"
      },
      "outputs": [
        {
          "name": "stdout",
          "output_type": "stream",
          "text": [
            "MSE ARIMAX Portata 2.67\n",
            "Wall time: 14min 48s\n"
          ]
        }
      ],
      "source": [
        "%%time\n",
        "# Cross validation\n",
        "mse_arimax_portata = cross_validation('Sarimax', Sarima_parametri, df_sarima_portata, 'Log_Portata_Uscita', f_exog = f_exog, n_splits = 30)\n",
        "\n",
        "print('MSE ARIMAX Portata', round(mse_arimax_portata, 3))\n"
      ]
    },
    {
      "cell_type": "markdown",
      "id": "d03f9b1c",
      "metadata": {
        "id": "d03f9b1c"
      },
      "source": [
        "# Arch"
      ]
    },
    {
      "cell_type": "code",
      "execution_count": 53,
      "id": "3923a3c6",
      "metadata": {
        "id": "3923a3c6",
        "outputId": "08b080d8-66d4-43a7-e7ca-ec70252599a0"
      },
      "outputs": [
        {
          "data": {
            "image/png": "[encoded data removed]",
            "text/plain": [
              "<Figure size 432x288 with 1 Axes>"
            ]
          },
          "metadata": {
            "needs_background": "light"
          },
          "output_type": "display_data"
        }
      ],
      "source": [
        "# Plot dei residui\n",
        "plt.plot(model_fit.resid, label = \"Residuals\")\n",
        "plt.show()\n",
        "\n",
        "# Dai residui sono notano questi picchi che sono in corrispondenza dei picchi della Portata\n",
        "# che il modello Arima non riesce a prevedere"
      ]
    },
    {
      "cell_type": "code",
      "execution_count": 54,
      "id": "9f81fdd3",
      "metadata": {},
      "outputs": [],
      "source": [
        "# Qui dobbiamo fare un lavoro diverso \n",
        "len_train = int(80*len(df_sarima_portata)/100)\n",
        "\n",
        "# Serve esponenziale altrimenti i numeri sono troppo piccoli (e c'e' warning)\n",
        "train_Y = np.exp(Y_sarima[:len_train])\n",
        "test_Y = np.exp(Y_sarima[len_train:])"
      ]
    },
    {
      "cell_type": "code",
      "execution_count": 55,
      "metadata": {},
      "outputs": [
        {
          "name": "stdout",
          "output_type": "stream",
          "text": [
            "Optimization terminated successfully.\n",
            "         Current function value: 2.345909\n",
            "         Iterations: 119\n",
            "         Function evaluations: 213\n",
            "Wall time: 1.02 s\n"
          ]
        }
      ],
      "source": [
        "%%time\n",
        "# Definizione modello e fit\n",
        "model = SARIMAX(train_Y, order=(1, 1, 1))\n",
        "model_results = model.fit(method = 'nm', maxiter = 1000, disp = True)"
      ]
    },
    {
      "cell_type": "code",
      "execution_count": 56,
      "metadata": {},
      "outputs": [
        {
          "data": {
            "text/plain": [
              "3.1903552083656437"
            ]
          },
          "execution_count": 56,
          "metadata": {},
          "output_type": "execute_result"
        }
      ],
      "source": [
        "# Forecast\n",
        "arma_forecast = model_results.get_forecast(len(test_Y.index))\n",
        "arma_predictions_df = arma_forecast.conf_int(alpha = 0.05) # intervallo di confidenza al 95%\n",
        "\n",
        "# previsioni\n",
        "arma_predictions_df[\"Predictions\"] = model_results.predict(start = test_Y.index[0], end = test_Y.index[-1])\n",
        "\n",
        "# RMSE\n",
        "arma_rmse = np.sqrt(mean_squared_error(test_Y, arma_predictions_df[\"Predictions\"]))\n",
        "\n",
        "arma_rmse"
      ]
    },
    {
      "cell_type": "code",
      "execution_count": 57,
      "metadata": {},
      "outputs": [
        {
          "data": {
            "text/html": [
              "<div>\n",
              "<style scoped>\n",
              "    .dataframe tbody tr th:only-of-type {\n",
              "        vertical-align: middle;\n",
              "    }\n",
              "\n",
              "    .dataframe tbody tr th {\n",
              "        vertical-align: top;\n",
              "    }\n",
              "\n",
              "    .dataframe thead th {\n",
              "        text-align: right;\n",
              "    }\n",
              "</style>\n",
              "<table border=\"1\" class=\"dataframe\">\n",
              "  <thead>\n",
              "    <tr style=\"text-align: right;\">\n",
              "      <th></th>\n",
              "      <th>lower Log_Portata_Uscita</th>\n",
              "      <th>upper Log_Portata_Uscita</th>\n",
              "      <th>Predictions</th>\n",
              "    </tr>\n",
              "  </thead>\n",
              "  <tbody>\n",
              "    <tr>\n",
              "      <th>3850</th>\n",
              "      <td>-4.289282</td>\n",
              "      <td>5.620705</td>\n",
              "      <td>0.665711</td>\n",
              "    </tr>\n",
              "    <tr>\n",
              "      <th>3851</th>\n",
              "      <td>-5.573035</td>\n",
              "      <td>7.001617</td>\n",
              "      <td>0.714291</td>\n",
              "    </tr>\n",
              "    <tr>\n",
              "      <th>3852</th>\n",
              "      <td>-6.245830</td>\n",
              "      <td>7.746242</td>\n",
              "      <td>0.750206</td>\n",
              "    </tr>\n",
              "    <tr>\n",
              "      <th>3853</th>\n",
              "      <td>-6.644281</td>\n",
              "      <td>8.197797</td>\n",
              "      <td>0.776758</td>\n",
              "    </tr>\n",
              "    <tr>\n",
              "      <th>3854</th>\n",
              "      <td>-6.899148</td>\n",
              "      <td>8.491922</td>\n",
              "      <td>0.796387</td>\n",
              "    </tr>\n",
              "  </tbody>\n",
              "</table>\n",
              "</div>"
            ],
            "text/plain": [
              "      lower Log_Portata_Uscita  upper Log_Portata_Uscita  Predictions\n",
              "3850                 -4.289282                  5.620705     0.665711\n",
              "3851                 -5.573035                  7.001617     0.714291\n",
              "3852                 -6.245830                  7.746242     0.750206\n",
              "3853                 -6.644281                  8.197797     0.776758\n",
              "3854                 -6.899148                  8.491922     0.796387"
            ]
          },
          "execution_count": 57,
          "metadata": {},
          "output_type": "execute_result"
        }
      ],
      "source": [
        "arma_predictions_df.head()"
      ]
    },
    {
      "cell_type": "code",
      "execution_count": 58,
      "id": "1e9a6f80",
      "metadata": {},
      "outputs": [],
      "source": [
        "# Dataset dei residui\n",
        "resid_df = pd.DataFrame(\n",
        "    data = np.exp(Y_sarima),\n",
        "columns = ['Log_Portata_Uscita'])\n",
        "\n",
        "resid_df[\"Log_Portata_resid\"] = resid_df[\"Log_Portata_Uscita\"].shift(1).loc[resid_df.index]\n",
        "\n",
        "resid_df.loc[train_Y.index[0]:train_Y.index[-1]:, \"Log_Portata_resid\"] = model_results.resid"
      ]
    },
    {
      "cell_type": "code",
      "execution_count": 59,
      "metadata": {},
      "outputs": [
        {
          "name": "stdout",
          "output_type": "stream",
          "text": [
            "Iteration:      5,   Func. Count:    125,   Neg. LLF: 7267.989520777828\n",
            "Iteration:     10,   Func. Count:    245,   Neg. LLF: 86264.67646211469\n",
            "Iteration:     15,   Func. Count:    365,   Neg. LLF: 5365.588974447498\n",
            "Iteration:     20,   Func. Count:    486,   Neg. LLF: 5130.441533697861\n",
            "Iteration:     25,   Func. Count:    602,   Neg. LLF: 4607.155775313136\n",
            "Iteration:     30,   Func. Count:    737,   Neg. LLF: 5397.456501612046\n",
            "Iteration:     35,   Func. Count:    869,   Neg. LLF: 12530.065054295905\n",
            "Iteration:     40,   Func. Count:  1e+03,   Neg. LLF: 4935.906660028701\n",
            "Iteration:     45,   Func. Count: 1.16e+03,   Neg. LLF: 67295.93369743688\n",
            "Iteration:     50,   Func. Count: 1.3e+03,   Neg. LLF: 5901.990857311519\n",
            "Positive directional derivative for linesearch    (Exit mode 8)\n",
            "            Current function value: 4607.5223691592855\n",
            "            Iterations: 55\n",
            "            Function evaluations: 1326\n",
            "            Gradient evaluations: 51\n"
          ]
        },
        {
          "name": "stderr",
          "output_type": "stream",
          "text": [
            "C:\\Users\\maver\\AppData\\Roaming\\Python\\Python310\\site-packages\\arch\\univariate\\base.py:753: ConvergenceWarning: The optimizer returned code 8. The message is:\n",
            "Positive directional derivative for linesearch\n",
            "See scipy.optimize.fmin_slsqp for code meaning.\n",
            "\n",
            "  warnings.warn(\n"
          ]
        },
        {
          "data": {
            "text/html": [
              "<table class=\"simpletable\">\n",
              "<caption>Constant Mean - GARCH Model Results</caption>\n",
              "<tr>\n",
              "  <th>Dep. Variable:</th>  <td>Log_Portata_resid</td> <th>  R-squared:         </th>  <td>   0.000</td> \n",
              "</tr>\n",
              "<tr>\n",
              "  <th>Mean Model:</th>       <td>Constant Mean</td>   <th>  Adj. R-squared:    </th>  <td>   0.000</td> \n",
              "</tr>\n",
              "<tr>\n",
              "  <th>Vol Model:</th>            <td>GARCH</td>       <th>  Log-Likelihood:    </th> <td>  -4607.52</td>\n",
              "</tr>\n",
              "<tr>\n",
              "  <th>Distribution:</th>        <td>Normal</td>       <th>  AIC:               </th> <td>   9259.04</td>\n",
              "</tr>\n",
              "<tr>\n",
              "  <th>Method:</th>        <td>Maximum Likelihood</td> <th>  BIC:               </th> <td>   9396.67</td>\n",
              "</tr>\n",
              "<tr>\n",
              "  <th></th>                        <td></td>          <th>  No. Observations:  </th>    <td>3850</td>   \n",
              "</tr>\n",
              "<tr>\n",
              "  <th>Date:</th>           <td>Fri, Jun 24 2022</td>  <th>  Df Residuals:      </th>    <td>3849</td>   \n",
              "</tr>\n",
              "<tr>\n",
              "  <th>Time:</th>               <td>22:27:42</td>      <th>  Df Model:          </th>      <td>1</td>    \n",
              "</tr>\n",
              "</table>\n",
              "<table class=\"simpletable\">\n",
              "<caption>Mean Model</caption>\n",
              "<tr>\n",
              "   <td></td>     <th>coef</th>     <th>std err</th>      <th>t</th>       <th>P>|t|</th>    <th>95.0% Conf. Int.</th>  \n",
              "</tr>\n",
              "<tr>\n",
              "  <th>mu</th> <td>   -0.0453</td> <td>4.846e-02</td> <td>   -0.935</td> <td>    0.350</td> <td>[ -0.140,4.964e-02]</td>\n",
              "</tr>\n",
              "</table>\n",
              "<table class=\"simpletable\">\n",
              "<caption>Volatility Model</caption>\n",
              "<tr>\n",
              "      <td></td>         <th>coef</th>     <th>std err</th>      <th>t</th>       <th>P>|t|</th>      <th>95.0% Conf. Int.</th>   \n",
              "</tr>\n",
              "<tr>\n",
              "  <th>omega</th>     <td>    0.0385</td> <td>3.968e-02</td> <td>    0.970</td> <td>    0.332</td>  <td>[-3.928e-02,  0.116]</td> \n",
              "</tr>\n",
              "<tr>\n",
              "  <th>alpha[1]</th>  <td>    0.1991</td> <td>    0.103</td> <td>    1.930</td> <td>5.362e-02</td>  <td>[-3.106e-03,  0.401]</td> \n",
              "</tr>\n",
              "<tr>\n",
              "  <th>alpha[2]</th>  <td>    0.0461</td> <td>5.184e-02</td> <td>    0.889</td> <td>    0.374</td>  <td>[-5.554e-02,  0.148]</td> \n",
              "</tr>\n",
              "<tr>\n",
              "  <th>alpha[3]</th>  <td>    0.0890</td> <td>9.004e-02</td> <td>    0.988</td> <td>    0.323</td>  <td>[-8.749e-02,  0.265]</td> \n",
              "</tr>\n",
              "<tr>\n",
              "  <th>alpha[4]</th>  <td>1.7356e-07</td> <td>8.917e-02</td> <td>1.946e-06</td> <td>    1.000</td>    <td>[ -0.175,  0.175]</td>  \n",
              "</tr>\n",
              "<tr>\n",
              "  <th>alpha[5]</th>  <td>    0.0216</td> <td>4.558e-02</td> <td>    0.474</td> <td>    0.635</td>  <td>[-6.771e-02,  0.111]</td> \n",
              "</tr>\n",
              "<tr>\n",
              "  <th>alpha[6]</th>  <td>2.3665e-08</td> <td>7.228e-02</td> <td>3.274e-07</td> <td>    1.000</td>    <td>[ -0.142,  0.142]</td>  \n",
              "</tr>\n",
              "<tr>\n",
              "  <th>alpha[7]</th>  <td>7.3855e-08</td> <td>4.547e-02</td> <td>1.624e-06</td> <td>    1.000</td> <td>[-8.912e-02,8.912e-02]</td>\n",
              "</tr>\n",
              "<tr>\n",
              "  <th>alpha[8]</th>  <td>5.0142e-07</td> <td>1.907e-02</td> <td>2.629e-05</td> <td>    1.000</td> <td>[-3.738e-02,3.738e-02]</td>\n",
              "</tr>\n",
              "<tr>\n",
              "  <th>alpha[9]</th>  <td>    0.1976</td> <td>    0.102</td> <td>    1.930</td> <td>5.364e-02</td>  <td>[-3.096e-03,  0.398]</td> \n",
              "</tr>\n",
              "<tr>\n",
              "  <th>alpha[10]</th> <td>2.1891e-08</td> <td>    0.331</td> <td>6.618e-08</td> <td>    1.000</td>    <td>[ -0.648,  0.648]</td>  \n",
              "</tr>\n",
              "<tr>\n",
              "  <th>beta[1]</th>   <td>5.4715e-08</td> <td>    0.735</td> <td>7.439e-08</td> <td>    1.000</td>    <td>[ -1.441,  1.441]</td>  \n",
              "</tr>\n",
              "<tr>\n",
              "  <th>beta[2]</th>   <td>6.0626e-08</td> <td>    0.146</td> <td>4.142e-07</td> <td>    1.000</td>    <td>[ -0.287,  0.287]</td>  \n",
              "</tr>\n",
              "<tr>\n",
              "  <th>beta[3]</th>   <td>6.8484e-08</td> <td>    0.317</td> <td>2.159e-07</td> <td>    1.000</td>    <td>[ -0.622,  0.622]</td>  \n",
              "</tr>\n",
              "<tr>\n",
              "  <th>beta[4]</th>   <td>5.8165e-08</td> <td>    0.338</td> <td>1.721e-07</td> <td>    1.000</td>    <td>[ -0.662,  0.662]</td>  \n",
              "</tr>\n",
              "<tr>\n",
              "  <th>beta[5]</th>   <td>4.6392e-08</td> <td>    0.146</td> <td>3.188e-07</td> <td>    1.000</td>    <td>[ -0.285,  0.285]</td>  \n",
              "</tr>\n",
              "<tr>\n",
              "  <th>beta[6]</th>   <td>4.7721e-08</td> <td>    0.114</td> <td>4.182e-07</td> <td>    1.000</td>    <td>[ -0.224,  0.224]</td>  \n",
              "</tr>\n",
              "<tr>\n",
              "  <th>beta[7]</th>   <td>1.1881e-07</td> <td>4.546e-02</td> <td>2.613e-06</td> <td>    1.000</td> <td>[-8.910e-02,8.910e-02]</td>\n",
              "</tr>\n",
              "<tr>\n",
              "  <th>beta[8]</th>   <td>    0.0411</td> <td>3.891e-02</td> <td>    1.056</td> <td>    0.291</td>  <td>[-3.518e-02,  0.117]</td> \n",
              "</tr>\n",
              "<tr>\n",
              "  <th>beta[9]</th>   <td>    0.4056</td> <td>5.344e-02</td> <td>    7.590</td> <td>3.200e-14</td>    <td>[  0.301,  0.510]</td>  \n",
              "</tr>\n",
              "<tr>\n",
              "  <th>beta[10]</th>  <td>4.8238e-08</td> <td>    0.488</td> <td>9.883e-08</td> <td>    1.000</td>    <td>[ -0.957,  0.957]</td>  \n",
              "</tr>\n",
              "</table><br/><br/>Covariance estimator: robust<br/>WARNING: The optimizer did not indicate successful convergence. The message was Positive directional derivative for linesearch.<br/>See convergence_flag.<br/>"
            ],
            "text/plain": [
              "<class 'statsmodels.iolib.summary.Summary'>\n",
              "\"\"\"\n",
              "                     Constant Mean - GARCH Model Results                      \n",
              "==============================================================================\n",
              "Dep. Variable:      Log_Portata_resid   R-squared:                       0.000\n",
              "Mean Model:             Constant Mean   Adj. R-squared:                  0.000\n",
              "Vol Model:                      GARCH   Log-Likelihood:               -4607.52\n",
              "Distribution:                  Normal   AIC:                           9259.04\n",
              "Method:            Maximum Likelihood   BIC:                           9396.67\n",
              "                                        No. Observations:                 3850\n",
              "Date:                Fri, Jun 24 2022   Df Residuals:                     3849\n",
              "Time:                        22:27:42   Df Model:                            1\n",
              "                                Mean Model                                \n",
              "==========================================================================\n",
              "                 coef    std err          t      P>|t|    95.0% Conf. Int.\n",
              "--------------------------------------------------------------------------\n",
              "mu            -0.0453  4.846e-02     -0.935      0.350 [ -0.140,4.964e-02]\n",
              "                               Volatility Model                              \n",
              "=============================================================================\n",
              "                 coef    std err          t      P>|t|       95.0% Conf. Int.\n",
              "-----------------------------------------------------------------------------\n",
              "omega          0.0385  3.968e-02      0.970      0.332   [-3.928e-02,  0.116]\n",
              "alpha[1]       0.1991      0.103      1.930  5.362e-02   [-3.106e-03,  0.401]\n",
              "alpha[2]       0.0461  5.184e-02      0.889      0.374   [-5.554e-02,  0.148]\n",
              "alpha[3]       0.0890  9.004e-02      0.988      0.323   [-8.749e-02,  0.265]\n",
              "alpha[4]   1.7356e-07  8.917e-02  1.946e-06      1.000      [ -0.175,  0.175]\n",
              "alpha[5]       0.0216  4.558e-02      0.474      0.635   [-6.771e-02,  0.111]\n",
              "alpha[6]   2.3665e-08  7.228e-02  3.274e-07      1.000      [ -0.142,  0.142]\n",
              "alpha[7]   7.3855e-08  4.547e-02  1.624e-06      1.000 [-8.912e-02,8.912e-02]\n",
              "alpha[8]   5.0142e-07  1.907e-02  2.629e-05      1.000 [-3.738e-02,3.738e-02]\n",
              "alpha[9]       0.1976      0.102      1.930  5.364e-02   [-3.096e-03,  0.398]\n",
              "alpha[10]  2.1891e-08      0.331  6.618e-08      1.000      [ -0.648,  0.648]\n",
              "beta[1]    5.4715e-08      0.735  7.439e-08      1.000      [ -1.441,  1.441]\n",
              "beta[2]    6.0626e-08      0.146  4.142e-07      1.000      [ -0.287,  0.287]\n",
              "beta[3]    6.8484e-08      0.317  2.159e-07      1.000      [ -0.622,  0.622]\n",
              "beta[4]    5.8165e-08      0.338  1.721e-07      1.000      [ -0.662,  0.662]\n",
              "beta[5]    4.6392e-08      0.146  3.188e-07      1.000      [ -0.285,  0.285]\n",
              "beta[6]    4.7721e-08      0.114  4.182e-07      1.000      [ -0.224,  0.224]\n",
              "beta[7]    1.1881e-07  4.546e-02  2.613e-06      1.000 [-8.910e-02,8.910e-02]\n",
              "beta[8]        0.0411  3.891e-02      1.056      0.291   [-3.518e-02,  0.117]\n",
              "beta[9]        0.4056  5.344e-02      7.590  3.200e-14      [  0.301,  0.510]\n",
              "beta[10]   4.8238e-08      0.488  9.883e-08      1.000      [ -0.957,  0.957]\n",
              "=============================================================================\n",
              "\n",
              "Covariance estimator: robust\n",
              "WARNING: The optimizer did not indicate successful convergence. The message was Positive directional derivative for linesearch.\n",
              "See convergence_flag.\n",
              "\n",
              "\"\"\""
            ]
          },
          "execution_count": 59,
          "metadata": {},
          "output_type": "execute_result"
        }
      ],
      "source": [
        "# Definizione e fit modello GARCH(p, q)\n",
        "resid_model = arch_model(resid_df[\"Log_Portata_resid\"], p = 10, q = 10, vol = \"GARCH\")\n",
        "resid_model_results = resid_model.fit(last_obs = test_Y.index[0], update_freq = 5)\n",
        "# Summary\n",
        "resid_model_results.summary()"
      ]
    },
    {
      "cell_type": "code",
      "execution_count": 60,
      "id": "436bda9c",
      "metadata": {},
      "outputs": [],
      "source": [
        "resid_forecasts = resid_model_results.forecast(reindex = True).residual_variance.loc[test_Y.index].values"
      ]
    },
    {
      "cell_type": "code",
      "execution_count": 61,
      "metadata": {},
      "outputs": [
        {
          "data": {
            "text/plain": [
              "(0.0, 350.0)"
            ]
          },
          "execution_count": 61,
          "metadata": {},
          "output_type": "execute_result"
        },
        {
          "data": {
            "image/png": "[encoded data removed]",
            "text/plain": [
              "<Figure size 720x360 with 1 Axes>"
            ]
          },
          "metadata": {
            "needs_background": "light"
          },
          "output_type": "display_data"
        }
      ],
      "source": [
        "# Nuovi intervalli di confidenza\n",
        "arma_garch_predictions_df = arma_predictions_df.copy()\n",
        "arma_garch_predictions_df[\"lower Portata\"] = arma_garch_predictions_df[\"Predictions\"] - resid_forecasts.reshape(-1,)\n",
        "arma_garch_predictions_df[\"upper Portata\"] = arma_garch_predictions_df[\"Predictions\"] + resid_forecasts.reshape(-1,)\n",
        "\n",
        "\n",
        "# plot\n",
        "plt.rcParams[\"figure.figsize\"] = 10, 5\n",
        "\n",
        "# Valori reali\n",
        "plt.plot(test_Y, label = \"Valori reali\")\n",
        "plt.plot(arma_garch_predictions_df[\"Predictions\"][test_Y.index], label = \"Previsione\")\n",
        "# intervalli di confidenza\n",
        "#plt.plot(arma_garch_predictions_df[\"lower Portata\"][test_Y.index], color = \"green\", linestyle = \"--\", label = \"Intervalli di confidenza\")\n",
        "plt.plot(arma_garch_predictions_df[\"upper Portata\"][test_Y.index], color = \"green\", linestyle = \"--\", label = \"Intervalli di confidenza\")\n",
        "\n",
        "plt.legend()\n",
        "plt.plot()\n",
        "plt.ylim([0, 350])"
      ]
    },
    {
      "cell_type": "markdown",
      "id": "78603430",
      "metadata": {
        "id": "78603430"
      },
      "source": [
        "# VAR (multivariate AR)"
      ]
    },
    {
      "cell_type": "code",
      "execution_count": 62,
      "id": "160798f4",
      "metadata": {
        "id": "160798f4",
        "outputId": "406b6689-eb94-44f3-e5b9-41e68dfb4342"
      },
      "outputs": [
        {
          "data": {
            "text/html": [
              "<div>\n",
              "<style scoped>\n",
              "    .dataframe tbody tr th:only-of-type {\n",
              "        vertical-align: middle;\n",
              "    }\n",
              "\n",
              "    .dataframe tbody tr th {\n",
              "        vertical-align: top;\n",
              "    }\n",
              "\n",
              "    .dataframe thead th {\n",
              "        text-align: right;\n",
              "    }\n",
              "</style>\n",
              "<table border=\"1\" class=\"dataframe\">\n",
              "  <thead>\n",
              "    <tr style=\"text-align: right;\">\n",
              "      <th></th>\n",
              "      <th>Data</th>\n",
              "      <th>Year</th>\n",
              "      <th>Pioggia_Totale</th>\n",
              "      <th>Temperatura_Zona_5</th>\n",
              "      <th>Livello_Acqua</th>\n",
              "      <th>Portata_Uscita</th>\n",
              "      <th>cc_1</th>\n",
              "      <th>ss_1</th>\n",
              "      <th>cc_2</th>\n",
              "      <th>ss_2</th>\n",
              "    </tr>\n",
              "  </thead>\n",
              "  <tbody>\n",
              "    <tr>\n",
              "      <th>0</th>\n",
              "      <td>2004-01-02</td>\n",
              "      <td>2004</td>\n",
              "      <td>0.0</td>\n",
              "      <td>6.50</td>\n",
              "      <td>30.21</td>\n",
              "      <td>0.5</td>\n",
              "      <td>0.999852</td>\n",
              "      <td>0.017202</td>\n",
              "      <td>0.999408</td>\n",
              "      <td>0.034398</td>\n",
              "    </tr>\n",
              "    <tr>\n",
              "      <th>1</th>\n",
              "      <td>2004-01-03</td>\n",
              "      <td>2004</td>\n",
              "      <td>0.0</td>\n",
              "      <td>4.45</td>\n",
              "      <td>30.28</td>\n",
              "      <td>0.5</td>\n",
              "      <td>0.999408</td>\n",
              "      <td>0.034398</td>\n",
              "      <td>0.997634</td>\n",
              "      <td>0.068755</td>\n",
              "    </tr>\n",
              "    <tr>\n",
              "      <th>2</th>\n",
              "      <td>2004-01-04</td>\n",
              "      <td>2004</td>\n",
              "      <td>0.0</td>\n",
              "      <td>2.00</td>\n",
              "      <td>30.35</td>\n",
              "      <td>0.5</td>\n",
              "      <td>0.998669</td>\n",
              "      <td>0.051584</td>\n",
              "      <td>0.994678</td>\n",
              "      <td>0.103031</td>\n",
              "    </tr>\n",
              "    <tr>\n",
              "      <th>3</th>\n",
              "      <td>2004-01-05</td>\n",
              "      <td>2004</td>\n",
              "      <td>0.2</td>\n",
              "      <td>0.90</td>\n",
              "      <td>30.37</td>\n",
              "      <td>0.5</td>\n",
              "      <td>0.997634</td>\n",
              "      <td>0.068755</td>\n",
              "      <td>0.990545</td>\n",
              "      <td>0.137185</td>\n",
              "    </tr>\n",
              "    <tr>\n",
              "      <th>4</th>\n",
              "      <td>2004-01-06</td>\n",
              "      <td>2004</td>\n",
              "      <td>0.0</td>\n",
              "      <td>2.25</td>\n",
              "      <td>30.42</td>\n",
              "      <td>0.5</td>\n",
              "      <td>0.996303</td>\n",
              "      <td>0.085906</td>\n",
              "      <td>0.985240</td>\n",
              "      <td>0.171177</td>\n",
              "    </tr>\n",
              "  </tbody>\n",
              "</table>\n",
              "</div>"
            ],
            "text/plain": [
              "        Data  Year  Pioggia_Totale  Temperatura_Zona_5  Livello_Acqua  \\\n",
              "0 2004-01-02  2004             0.0                6.50          30.21   \n",
              "1 2004-01-03  2004             0.0                4.45          30.28   \n",
              "2 2004-01-04  2004             0.0                2.00          30.35   \n",
              "3 2004-01-05  2004             0.2                0.90          30.37   \n",
              "4 2004-01-06  2004             0.0                2.25          30.42   \n",
              "\n",
              "   Portata_Uscita      cc_1      ss_1      cc_2      ss_2  \n",
              "0             0.5  0.999852  0.017202  0.999408  0.034398  \n",
              "1             0.5  0.999408  0.034398  0.997634  0.068755  \n",
              "2             0.5  0.998669  0.051584  0.994678  0.103031  \n",
              "3             0.5  0.997634  0.068755  0.990545  0.137185  \n",
              "4             0.5  0.996303  0.085906  0.985240  0.171177  "
            ]
          },
          "execution_count": 62,
          "metadata": {},
          "output_type": "execute_result"
        }
      ],
      "source": [
        "# Carichiamo dataset\n",
        "data = pd.read_pickle('###', compression='zip')\n",
        "data.dropna(subset=list(data.columns), inplace=True)\n",
        "data.head()"
      ]
    },
    {
      "cell_type": "code",
      "execution_count": 63,
      "id": "4f9775dc",
      "metadata": {
        "id": "4f9775dc",
        "outputId": "7a99aa8e-5983-4cc8-dff2-2ff4cc314da3"
      },
      "outputs": [
        {
          "data": {
            "text/html": [
              "<div>\n",
              "<style scoped>\n",
              "    .dataframe tbody tr th:only-of-type {\n",
              "        vertical-align: middle;\n",
              "    }\n",
              "\n",
              "    .dataframe tbody tr th {\n",
              "        vertical-align: top;\n",
              "    }\n",
              "\n",
              "    .dataframe thead th {\n",
              "        text-align: right;\n",
              "    }\n",
              "</style>\n",
              "<table border=\"1\" class=\"dataframe\">\n",
              "  <thead>\n",
              "    <tr style=\"text-align: right;\">\n",
              "      <th></th>\n",
              "      <th>Pioggia_Totale</th>\n",
              "      <th>Temperatura_Zona_5</th>\n",
              "      <th>Livello_Acqua</th>\n",
              "      <th>Portata_Uscita</th>\n",
              "    </tr>\n",
              "  </thead>\n",
              "  <tbody>\n",
              "    <tr>\n",
              "      <th>0</th>\n",
              "      <td>0.0</td>\n",
              "      <td>6.50</td>\n",
              "      <td>30.21</td>\n",
              "      <td>0.5</td>\n",
              "    </tr>\n",
              "    <tr>\n",
              "      <th>1</th>\n",
              "      <td>0.0</td>\n",
              "      <td>4.45</td>\n",
              "      <td>30.28</td>\n",
              "      <td>0.5</td>\n",
              "    </tr>\n",
              "    <tr>\n",
              "      <th>2</th>\n",
              "      <td>0.0</td>\n",
              "      <td>2.00</td>\n",
              "      <td>30.35</td>\n",
              "      <td>0.5</td>\n",
              "    </tr>\n",
              "    <tr>\n",
              "      <th>3</th>\n",
              "      <td>0.2</td>\n",
              "      <td>0.90</td>\n",
              "      <td>30.37</td>\n",
              "      <td>0.5</td>\n",
              "    </tr>\n",
              "    <tr>\n",
              "      <th>4</th>\n",
              "      <td>0.0</td>\n",
              "      <td>2.25</td>\n",
              "      <td>30.42</td>\n",
              "      <td>0.5</td>\n",
              "    </tr>\n",
              "  </tbody>\n",
              "</table>\n",
              "</div>"
            ],
            "text/plain": [
              "   Pioggia_Totale  Temperatura_Zona_5  Livello_Acqua  Portata_Uscita\n",
              "0             0.0                6.50          30.21             0.5\n",
              "1             0.0                4.45          30.28             0.5\n",
              "2             0.0                2.00          30.35             0.5\n",
              "3             0.2                0.90          30.37             0.5\n",
              "4             0.0                2.25          30.42             0.5"
            ]
          },
          "execution_count": 63,
          "metadata": {},
          "output_type": "execute_result"
        }
      ],
      "source": [
        "# Selezione colonne\n",
        "data_var = data[['Pioggia_Totale', 'Temperatura_Zona_5','Livello_Acqua','Portata_Uscita']]\n",
        "data_var.head()"
      ]
    },
    {
      "cell_type": "code",
      "execution_count": 64,
      "id": "2c74a21e",
      "metadata": {
        "id": "2c74a21e"
      },
      "outputs": [],
      "source": [
        "# Test per la Granger Causality\n",
        "# Le righe sono la variabile risposta, le colonne i predittori. \n",
        "# I valori nella tabella sono i P-value, che se sono piu' bassi di 0.05 (soglia), implica \n",
        "# che l'ipotesi nulla, cioe' che X (riga) non causa Y (colonna), puo' essere rigettata\n",
        "\n",
        "maxlag = 7\n",
        "test = 'ssr_chi2test'\n",
        "def grangers_causation_matrix(data, variables, test='ssr_chi2test', verbose=False):\n",
        "    df = pd.DataFrame(np.zeros((len(variables), len(variables))), columns=variables, index=variables)\n",
        "    for c in df.columns:\n",
        "        for r in df.index:\n",
        "            test_result = grangercausalitytests(data[[r, c]], maxlag=maxlag, verbose=False)\n",
        "            p_values = [round(test_result[i+1][0][test][1],4) for i in range(maxlag)]\n",
        "            if verbose: print(f'Y = {r}, X = {c}, P Values = {p_values}')\n",
        "            min_p_value = np.min(p_values)\n",
        "            df.loc[r, c] = min_p_value\n",
        "    df.columns = [var + '_x' for var in variables]\n",
        "    df.index = [var + '_y' for var in variables]\n",
        "    return df"
      ]
    },
    {
      "cell_type": "code",
      "execution_count": 65,
      "id": "c4999315",
      "metadata": {
        "id": "c4999315",
        "outputId": "8a39fcdb-8a5b-49ad-ec73-b60367bf162a"
      },
      "outputs": [
        {
          "name": "stderr",
          "output_type": "stream",
          "text": [
            "C:\\Users\\maver\\AppData\\Roaming\\Python\\Python310\\site-packages\\statsmodels\\base\\model.py:1871: ValueWarning: covariance of constraints does not have full rank. The number of constraints is 2, but rank is 1\n",
            "  warnings.warn('covariance of constraints does not have full '\n",
            "C:\\Users\\maver\\AppData\\Roaming\\Python\\Python310\\site-packages\\statsmodels\\base\\model.py:1871: ValueWarning: covariance of constraints does not have full rank. The number of constraints is 3, but rank is 1\n",
            "  warnings.warn('covariance of constraints does not have full '\n",
            "C:\\Users\\maver\\AppData\\Roaming\\Python\\Python310\\site-packages\\statsmodels\\base\\model.py:1871: ValueWarning: covariance of constraints does not have full rank. The number of constraints is 4, but rank is 1\n",
            "  warnings.warn('covariance of constraints does not have full '\n",
            "C:\\Users\\maver\\AppData\\Roaming\\Python\\Python310\\site-packages\\statsmodels\\base\\model.py:1871: ValueWarning: covariance of constraints does not have full rank. The number of constraints is 5, but rank is 1\n",
            "  warnings.warn('covariance of constraints does not have full '\n",
            "C:\\Users\\maver\\AppData\\Roaming\\Python\\Python310\\site-packages\\statsmodels\\base\\model.py:1871: ValueWarning: covariance of constraints does not have full rank. The number of constraints is 6, but rank is 1\n",
            "  warnings.warn('covariance of constraints does not have full '\n",
            "C:\\Users\\maver\\AppData\\Roaming\\Python\\Python310\\site-packages\\statsmodels\\base\\model.py:1871: ValueWarning: covariance of constraints does not have full rank. The number of constraints is 7, but rank is 1\n",
            "  warnings.warn('covariance of constraints does not have full '\n"
          ]
        },
        {
          "data": {
            "text/html": [
              "<div>\n",
              "<style scoped>\n",
              "    .dataframe tbody tr th:only-of-type {\n",
              "        vertical-align: middle;\n",
              "    }\n",
              "\n",
              "    .dataframe tbody tr th {\n",
              "        vertical-align: top;\n",
              "    }\n",
              "\n",
              "    .dataframe thead th {\n",
              "        text-align: right;\n",
              "    }\n",
              "</style>\n",
              "<table border=\"1\" class=\"dataframe\">\n",
              "  <thead>\n",
              "    <tr style=\"text-align: right;\">\n",
              "      <th></th>\n",
              "      <th>Pioggia_Totale_x</th>\n",
              "      <th>Temperatura_Zona_5_x</th>\n",
              "      <th>Livello_Acqua_x</th>\n",
              "      <th>Portata_Uscita_x</th>\n",
              "    </tr>\n",
              "  </thead>\n",
              "  <tbody>\n",
              "    <tr>\n",
              "      <th>Pioggia_Totale_y</th>\n",
              "      <td>1.0000</td>\n",
              "      <td>0.0</td>\n",
              "      <td>0.0265</td>\n",
              "      <td>0.0251</td>\n",
              "    </tr>\n",
              "    <tr>\n",
              "      <th>Temperatura_Zona_5_y</th>\n",
              "      <td>0.0005</td>\n",
              "      <td>1.0</td>\n",
              "      <td>0.0000</td>\n",
              "      <td>0.0022</td>\n",
              "    </tr>\n",
              "    <tr>\n",
              "      <th>Livello_Acqua_y</th>\n",
              "      <td>0.0000</td>\n",
              "      <td>0.0</td>\n",
              "      <td>1.0000</td>\n",
              "      <td>0.0000</td>\n",
              "    </tr>\n",
              "    <tr>\n",
              "      <th>Portata_Uscita_y</th>\n",
              "      <td>0.0000</td>\n",
              "      <td>0.0</td>\n",
              "      <td>0.0000</td>\n",
              "      <td>0.9986</td>\n",
              "    </tr>\n",
              "  </tbody>\n",
              "</table>\n",
              "</div>"
            ],
            "text/plain": [
              "                      Pioggia_Totale_x  Temperatura_Zona_5_x  Livello_Acqua_x  \\\n",
              "Pioggia_Totale_y                1.0000                   0.0           0.0265   \n",
              "Temperatura_Zona_5_y            0.0005                   1.0           0.0000   \n",
              "Livello_Acqua_y                 0.0000                   0.0           1.0000   \n",
              "Portata_Uscita_y                0.0000                   0.0           0.0000   \n",
              "\n",
              "                      Portata_Uscita_x  \n",
              "Pioggia_Totale_y                0.0251  \n",
              "Temperatura_Zona_5_y            0.0022  \n",
              "Livello_Acqua_y                 0.0000  \n",
              "Portata_Uscita_y                0.9986  "
            ]
          },
          "execution_count": 65,
          "metadata": {},
          "output_type": "execute_result"
        }
      ],
      "source": [
        "# Matrice di Granger\n",
        "grangers_causation_matrix(data_var, variables = data_var.columns.values)\n",
        "# vengono sollevati alcuni warning"
      ]
    },
    {
      "cell_type": "code",
      "execution_count": 66,
      "id": "d90c2da4",
      "metadata": {
        "id": "d90c2da4",
        "outputId": "9effd7ee-991f-437c-8f2a-af832a0bedab"
      },
      "outputs": [
        {
          "data": {
            "text/html": [
              "<table class=\"simpletable\">\n",
              "<caption>VAR Order Selection (* highlights the minimums)</caption>\n",
              "<tr>\n",
              "   <td></td>      <th>AIC</th>         <th>BIC</th>         <th>FPE</th>        <th>HQIC</th>    \n",
              "</tr>\n",
              "<tr>\n",
              "  <th>0</th>  <td>     15.39</td>  <td>     15.39</td>  <td> 4.813e+06</td>  <td>     15.39</td> \n",
              "</tr>\n",
              "<tr>\n",
              "  <th>1</th>  <td>     4.872</td>  <td>     4.899</td>  <td>     130.6</td>  <td>     4.882</td> \n",
              "</tr>\n",
              "<tr>\n",
              "  <th>2</th>  <td>     4.691</td>  <td>     4.740</td>  <td>     109.0</td>  <td>     4.708</td> \n",
              "</tr>\n",
              "<tr>\n",
              "  <th>3</th>  <td>     4.599</td>  <td>     4.669*</td> <td>     99.41</td>  <td>     4.624</td> \n",
              "</tr>\n",
              "<tr>\n",
              "  <th>4</th>  <td>     4.579</td>  <td>     4.670</td>  <td>     97.39</td>  <td>     4.611</td> \n",
              "</tr>\n",
              "<tr>\n",
              "  <th>5</th>  <td>     4.569</td>  <td>     4.683</td>  <td>     96.49</td>  <td>     4.609*</td>\n",
              "</tr>\n",
              "<tr>\n",
              "  <th>6</th>  <td>     4.563</td>  <td>     4.697</td>  <td>     95.83</td>  <td>     4.610</td> \n",
              "</tr>\n",
              "<tr>\n",
              "  <th>7</th>  <td>     4.558</td>  <td>     4.715</td>  <td>     95.43</td>  <td>     4.613</td> \n",
              "</tr>\n",
              "<tr>\n",
              "  <th>8</th>  <td>     4.552</td>  <td>     4.730</td>  <td>     94.84</td>  <td>     4.615</td> \n",
              "</tr>\n",
              "<tr>\n",
              "  <th>9</th>  <td>     4.551</td>  <td>     4.750</td>  <td>     94.69</td>  <td>     4.621</td> \n",
              "</tr>\n",
              "<tr>\n",
              "  <th>10</th> <td>     4.538*</td> <td>     4.759</td>  <td>     93.54*</td> <td>     4.616</td> \n",
              "</tr>\n",
              "</table>"
            ],
            "text/plain": [
              "<class 'statsmodels.iolib.table.SimpleTable'>"
            ]
          },
          "execution_count": 66,
          "metadata": {},
          "output_type": "execute_result"
        }
      ],
      "source": [
        "# Le Serie in data devono essere stazionarie per quello uso il log\n",
        "order_model = VAR(data_var)\n",
        "x = order_model.select_order(maxlags=10)\n",
        "x.summary()\n",
        "# 7 è il risultato migliore"
      ]
    },
    {
      "cell_type": "code",
      "execution_count": 67,
      "id": "9e924ada",
      "metadata": {
        "id": "9e924ada",
        "outputId": "71b510b5-f76b-4dc7-d367-0a6bce313d58"
      },
      "outputs": [
        {
          "name": "stdout",
          "output_type": "stream",
          "text": [
            "MSE VAR Livello: 0.126\n",
            "MSE VAR Portata: 10.602\n",
            "Wall time: 1min 1s\n"
          ]
        }
      ],
      "source": [
        "%%time\n",
        "N_rip = 3000\n",
        "lunghezza = 3000\n",
        "step = 1\n",
        "mse_Livello = []\n",
        "mse_Portata = []\n",
        "nobs = 7\n",
        "for i in range(N_rip):\n",
        "    data_var_cv = data_var[0:(lunghezza+i*step)]\n",
        "    df_train, df_val = data_var_cv[0:-nobs], data_var_cv[-nobs:]\n",
        "    var_model = VAR(df_train)\n",
        "    model_fitted = var_model.fit(7)\n",
        "    # ordine del lag\n",
        "    lag_order = model_fitted.k_ar\n",
        "    \n",
        "\n",
        "# dati in input per previsione\n",
        "    forecast_input = df_train.values[-lag_order:]\n",
        "\n",
        "# Forecast\n",
        "    fc = model_fitted.forecast(y=forecast_input, steps=nobs)\n",
        "    df_forecast = pd.DataFrame(fc, index=data_var_cv.index[-nobs:], columns=data_var.columns.values)\n",
        "    yhat = df_forecast.tail(1)\n",
        "    \n",
        "    \n",
        "    mse_Livello.append((float(yhat['Livello_Acqua'])-float(df_val.tail(1)['Livello_Acqua']))**2)\n",
        "    mse_Portata.append((float(yhat['Portata_Uscita'])-float(df_val.tail(1)['Portata_Uscita']))**2)\n",
        "\n",
        "mse_var_livello = np.mean(mse_Livello)\n",
        "mse_var_portata = np.mean(mse_Portata)\n",
        "\n",
        "print('MSE VAR Livello:', round(mse_var_livello, 3))\n",
        "print('MSE VAR Portata:', round(mse_var_portata, 3))"
      ]
    },
    {
      "cell_type": "code",
      "execution_count": 68,
      "id": "be283b0d",
      "metadata": {
        "id": "be283b0d"
      },
      "outputs": [],
      "source": [
        "# Salviamo il modello\n",
        "with open('../Models/VAR.pkl', 'wb') as file:\n",
        "    pickle.dump(model_fitted, file)"
      ]
    },
    {
      "cell_type": "markdown",
      "id": "7af36235",
      "metadata": {
        "id": "7af36235"
      },
      "source": [
        "# Symbolic Regression"
      ]
    },
    {
      "cell_type": "markdown",
      "id": "a0f7ce65",
      "metadata": {
        "id": "a0f7ce65"
      },
      "source": [
        "## Livello Acqua"
      ]
    },
    {
      "cell_type": "code",
      "execution_count": 69,
      "id": "1fcef995",
      "metadata": {
        "id": "1fcef995",
        "outputId": "ed35b8a9-1f32-4abe-a53c-275517e782ee"
      },
      "outputs": [
        {
          "data": {
            "text/html": [
              "<div>\n",
              "<style scoped>\n",
              "    .dataframe tbody tr th:only-of-type {\n",
              "        vertical-align: middle;\n",
              "    }\n",
              "\n",
              "    .dataframe tbody tr th {\n",
              "        vertical-align: top;\n",
              "    }\n",
              "\n",
              "    .dataframe thead th {\n",
              "        text-align: right;\n",
              "    }\n",
              "</style>\n",
              "<table border=\"1\" class=\"dataframe\">\n",
              "  <thead>\n",
              "    <tr style=\"text-align: right;\">\n",
              "      <th></th>\n",
              "      <th>Pioggia_Totale</th>\n",
              "      <th>Temperatura_Zona_5</th>\n",
              "      <th>Portata_Uscita</th>\n",
              "      <th>Livello_Acqua</th>\n",
              "    </tr>\n",
              "  </thead>\n",
              "  <tbody>\n",
              "    <tr>\n",
              "      <th>0</th>\n",
              "      <td>-0.391247</td>\n",
              "      <td>-1.164693</td>\n",
              "      <td>-0.562852</td>\n",
              "      <td>30.49</td>\n",
              "    </tr>\n",
              "    <tr>\n",
              "      <th>1</th>\n",
              "      <td>-0.391247</td>\n",
              "      <td>-1.460430</td>\n",
              "      <td>-0.562852</td>\n",
              "      <td>30.52</td>\n",
              "    </tr>\n",
              "    <tr>\n",
              "      <th>2</th>\n",
              "      <td>-0.391247</td>\n",
              "      <td>-1.813872</td>\n",
              "      <td>-0.562852</td>\n",
              "      <td>30.53</td>\n",
              "    </tr>\n",
              "    <tr>\n",
              "      <th>3</th>\n",
              "      <td>-0.385787</td>\n",
              "      <td>-1.972560</td>\n",
              "      <td>-0.562852</td>\n",
              "      <td>30.55</td>\n",
              "    </tr>\n",
              "    <tr>\n",
              "      <th>4</th>\n",
              "      <td>-0.391247</td>\n",
              "      <td>-1.777807</td>\n",
              "      <td>-0.562852</td>\n",
              "      <td>30.58</td>\n",
              "    </tr>\n",
              "  </tbody>\n",
              "</table>\n",
              "</div>"
            ],
            "text/plain": [
              "   Pioggia_Totale  Temperatura_Zona_5  Portata_Uscita  Livello_Acqua\n",
              "0       -0.391247           -1.164693       -0.562852          30.49\n",
              "1       -0.391247           -1.460430       -0.562852          30.52\n",
              "2       -0.391247           -1.813872       -0.562852          30.53\n",
              "3       -0.385787           -1.972560       -0.562852          30.55\n",
              "4       -0.391247           -1.777807       -0.562852          30.58"
            ]
          },
          "execution_count": 69,
          "metadata": {},
          "output_type": "execute_result"
        }
      ],
      "source": [
        "# Carichiamo dataset\n",
        "df_livello = pd.read_pickle('###', compression='zip')\n",
        "df_livello_symbolic = df_livello[['Pioggia_Totale', 'Temperatura_Zona_5', 'Portata_Uscita','Livello_Acqua']]\n",
        "df_livello_symbolic.head()"
      ]
    },
    {
      "cell_type": "code",
      "execution_count": 70,
      "id": "b56ce392",
      "metadata": {
        "id": "b56ce392"
      },
      "outputs": [],
      "source": [
        "# Split train-validation, senza cross validation\n",
        "df_train_reg_livello, df_val_reg_livello = train_test_split(\n",
        "    df_livello_symbolic,\n",
        "    train_size=0.8,\n",
        "    shuffle=False,\n",
        "    random_state=RANDOM_STATE\n",
        ")"
      ]
    },
    {
      "cell_type": "code",
      "execution_count": 71,
      "id": "7ed86248",
      "metadata": {
        "id": "7ed86248"
      },
      "outputs": [],
      "source": [
        "# Divisione di attributi e target, per train e per validation set\n",
        "X_train_reg_livello = df_train_reg_livello[df_train_reg_livello.columns.difference(['Livello_Acqua'])]\n",
        "X_val_reg_livello = df_val_reg_livello[df_train_reg_livello.columns.difference(['Livello_Acqua'])]\n",
        "Y_train_reg_livello = df_train_reg_livello['Livello_Acqua']\n",
        "Y_val_reg_livello = df_val_reg_livello['Livello_Acqua']"
      ]
    },
    {
      "cell_type": "code",
      "execution_count": 72,
      "id": "6ee2a62c",
      "metadata": {
        "id": "6ee2a62c"
      },
      "outputs": [],
      "source": [
        "# Istanziamo i parametri del modello\n",
        "function_set = ['add', 'sub', 'mul', 'div', 'sin', 'log']\n",
        "\n",
        "model_livello = SymbolicRegressor(population_size = 1000,\n",
        "                          tournament_size = 50,\n",
        "                          generations = 200,\n",
        "                          stopping_criteria=0.1,\n",
        "                          metric='mse',\n",
        "                          function_set = function_set, \n",
        "                          p_crossover=0.65,\n",
        "                          p_subtree_mutation=0.15,\n",
        "                          p_hoist_mutation=0.05,\n",
        "                          p_point_mutation=0.1,\n",
        "                          verbose = 0,\n",
        "                          random_state = RANDOM_STATE,\n",
        "                          n_jobs = -1)"
      ]
    },
    {
      "cell_type": "code",
      "execution_count": 73,
      "id": "ff21003b",
      "metadata": {
        "id": "ff21003b",
        "outputId": "1c6f1b4e-89d3-4910-82d6-48853b5683e9"
      },
      "outputs": [
        {
          "name": "stdout",
          "output_type": "stream",
          "text": [
            "Wall time: 9min 11s\n"
          ]
        }
      ],
      "source": [
        "%%time\n",
        "# Train\n",
        "model_livello.fit(X_train_reg_livello, Y_train_reg_livello)\n",
        "\n",
        "\n",
        "# Predict\n",
        "sr_y_pred_livello = model_livello.predict(X_val_reg_livello).reshape(-1,1)"
      ]
    },
    {
      "cell_type": "code",
      "execution_count": 74,
      "id": "73c08d6f",
      "metadata": {
        "id": "73c08d6f",
        "outputId": "5f884e71-efd5-4f9e-95c4-2e152e558114",
        "scrolled": true
      },
      "outputs": [
        {
          "data": {
            "image/png": "[encoded data removed]",
            "text/plain": [
              "<Figure size 720x360 with 1 Axes>"
            ]
          },
          "metadata": {
            "needs_background": "light"
          },
          "output_type": "display_data"
        },
        {
          "name": "stdout",
          "output_type": "stream",
          "text": [
            "MSE Symbolic regression Livello Acqua: 2.916\n"
          ]
        }
      ],
      "source": [
        "# Plot dei risultati\n",
        "plt.figure()\n",
        "plt.plot(list(Y_val_reg_livello), label = 'Valori reali')\n",
        "plt.plot(sr_y_pred_livello, label=\"Symbolic\", linewidth=2)\n",
        "plt.xlabel(\"data\")\n",
        "plt.ylabel(\"Livello\")\n",
        "plt.legend()\n",
        "plt.show()\n",
        "\n",
        "# Valore di errore\n",
        "mse_livello_sybolic = round(mean_squared_error(Y_val_reg_livello, sr_y_pred_livello), ndigits=3)\n",
        "print('MSE Symbolic regression Livello Acqua:', mse_livello_sybolic)"
      ]
    },
    {
      "cell_type": "code",
      "execution_count": 75,
      "id": "006f5061",
      "metadata": {
        "id": "006f5061"
      },
      "outputs": [],
      "source": [
        "# Salviamo modello\n",
        "with open('###', 'wb') as file:\n",
        "    pickle.dump(model_livello, file)"
      ]
    },
    {
      "cell_type": "code",
      "execution_count": 76,
      "id": "5654f5d3",
      "metadata": {
        "id": "5654f5d3",
        "outputId": "0dd80884-d017-4b42-8e92-a31bdb3901c1"
      },
      "outputs": [
        {
          "name": "stdout",
          "output_type": "stream",
          "text": [
            "Wall time: 6min 5s\n"
          ]
        }
      ],
      "source": [
        "%%time\n",
        "# Con Cross validation\n",
        "time_series_cv = TimeSeriesSplit(n_splits = 15, test_size = 7)\n",
        "    \n",
        "MSE_livello = []\n",
        "\n",
        "X = df_livello_symbolic[df_livello_symbolic.columns.difference(['Livello_Acqua', 'Log_Livello_Acqua','Data','Year'])]\n",
        "Y = df_livello_symbolic['Livello_Acqua']\n",
        "\n",
        "for train_index, val_index in time_series_cv.split(X):\n",
        "    # Divisione train e validation\n",
        "    X_train, X_val = X.loc[train_index], X.loc[val_index]\n",
        "    Y_train, Y_val = Y[train_index], Y[val_index]\n",
        "    \n",
        "    \n",
        "    model = SymbolicRegressor(population_size = 500,\n",
        "                          tournament_size = 50,\n",
        "                          generations = 40, # Diminuisco numero di generazioni per diminuire il costo\n",
        "                          stopping_criteria=0.1,\n",
        "                          metric='mse',\n",
        "                          function_set = function_set, \n",
        "                          p_crossover=0.65,\n",
        "                          p_subtree_mutation=0.15,\n",
        "                          p_hoist_mutation=0.05,\n",
        "                          p_point_mutation=0.1,\n",
        "                          verbose = 0,\n",
        "                          random_state = RANDOM_STATE,\n",
        "                          n_jobs = -1)\n",
        "    \n",
        "    model.fit(X_train, Y_train)\n",
        "\n",
        "    # Predict\n",
        "    y_pred = model.predict(X_val).reshape(-1,1)\n",
        "    \n",
        "    MSE_livello.append((list(Y_val)[6]-y_pred[6])**2)"
      ]
    },
    {
      "cell_type": "code",
      "execution_count": 77,
      "id": "1ef726f4",
      "metadata": {
        "id": "1ef726f4",
        "outputId": "0044fda0-d00e-471f-d62e-ea5d15ef4923"
      },
      "outputs": [
        {
          "data": {
            "text/plain": [
              "1.454"
            ]
          },
          "execution_count": 77,
          "metadata": {},
          "output_type": "execute_result"
        }
      ],
      "source": [
        "# MSE con cross-validation\n",
        "round(np.mean(np.array(MSE_livello)),3)"
      ]
    },
    {
      "cell_type": "markdown",
      "id": "e7b7d2c8",
      "metadata": {
        "id": "e7b7d2c8"
      },
      "source": [
        "## Portata Uscita"
      ]
    },
    {
      "cell_type": "code",
      "execution_count": 78,
      "id": "ed66f349",
      "metadata": {
        "id": "ed66f349",
        "outputId": "8834362c-4d33-45b5-e0ca-2af65ab68c0c"
      },
      "outputs": [
        {
          "data": {
            "text/html": [
              "<div>\n",
              "<style scoped>\n",
              "    .dataframe tbody tr th:only-of-type {\n",
              "        vertical-align: middle;\n",
              "    }\n",
              "\n",
              "    .dataframe tbody tr th {\n",
              "        vertical-align: top;\n",
              "    }\n",
              "\n",
              "    .dataframe thead th {\n",
              "        text-align: right;\n",
              "    }\n",
              "</style>\n",
              "<table border=\"1\" class=\"dataframe\">\n",
              "  <thead>\n",
              "    <tr style=\"text-align: right;\">\n",
              "      <th></th>\n",
              "      <th>Pioggia_Totale</th>\n",
              "      <th>Temperatura_Zona_5</th>\n",
              "      <th>Livello_Acqua</th>\n",
              "      <th>Portata_Uscita</th>\n",
              "    </tr>\n",
              "  </thead>\n",
              "  <tbody>\n",
              "    <tr>\n",
              "      <th>0</th>\n",
              "      <td>-0.391247</td>\n",
              "      <td>-1.164693</td>\n",
              "      <td>0.745450</td>\n",
              "      <td>0.5</td>\n",
              "    </tr>\n",
              "    <tr>\n",
              "      <th>1</th>\n",
              "      <td>-0.391247</td>\n",
              "      <td>-1.460430</td>\n",
              "      <td>0.776161</td>\n",
              "      <td>0.5</td>\n",
              "    </tr>\n",
              "    <tr>\n",
              "      <th>2</th>\n",
              "      <td>-0.391247</td>\n",
              "      <td>-1.813872</td>\n",
              "      <td>0.806873</td>\n",
              "      <td>0.5</td>\n",
              "    </tr>\n",
              "    <tr>\n",
              "      <th>3</th>\n",
              "      <td>-0.385787</td>\n",
              "      <td>-1.972560</td>\n",
              "      <td>0.815647</td>\n",
              "      <td>0.5</td>\n",
              "    </tr>\n",
              "    <tr>\n",
              "      <th>4</th>\n",
              "      <td>-0.391247</td>\n",
              "      <td>-1.777807</td>\n",
              "      <td>0.837584</td>\n",
              "      <td>0.5</td>\n",
              "    </tr>\n",
              "  </tbody>\n",
              "</table>\n",
              "</div>"
            ],
            "text/plain": [
              "   Pioggia_Totale  Temperatura_Zona_5  Livello_Acqua  Portata_Uscita\n",
              "0       -0.391247           -1.164693       0.745450             0.5\n",
              "1       -0.391247           -1.460430       0.776161             0.5\n",
              "2       -0.391247           -1.813872       0.806873             0.5\n",
              "3       -0.385787           -1.972560       0.815647             0.5\n",
              "4       -0.391247           -1.777807       0.837584             0.5"
            ]
          },
          "execution_count": 78,
          "metadata": {},
          "output_type": "execute_result"
        }
      ],
      "source": [
        "# Carichiamo dataset\n",
        "df_portata = pd.read_pickle('###', compression='zip')\n",
        "df_portata_symbolic = df_portata[['Pioggia_Totale', 'Temperatura_Zona_5', 'Livello_Acqua', 'Portata_Uscita']]\n",
        "df_portata_symbolic.head()"
      ]
    },
    {
      "cell_type": "code",
      "execution_count": 79,
      "id": "cf79bc6c",
      "metadata": {
        "id": "cf79bc6c"
      },
      "outputs": [],
      "source": [
        "# Definizione parametri\n",
        "# Viene aggiunta una funzione di partenza personalizzata\n",
        "def portata_trend( x ):\n",
        "    a = x + x**2; \n",
        "    return a    \n",
        "\n",
        "portata_trend = gpl.functions.make_function( function = portata_trend, name='trend', arity=1)\n",
        "\n",
        "function_set = ['add', 'sub', 'mul', 'div', 'sin', portata_trend]\n",
        "\n",
        "portata_model = SymbolicRegressor(population_size = 1000,\n",
        "                          tournament_size = 50,\n",
        "                          generations = 200,\n",
        "                          stopping_criteria=0.1,\n",
        "                          metric='mse',\n",
        "                          function_set = function_set, \n",
        "                          p_crossover=0.65,\n",
        "                          p_subtree_mutation=0.15,\n",
        "                          p_hoist_mutation=0.05,\n",
        "                          p_point_mutation=0.1,\n",
        "                          verbose = 0,\n",
        "                          random_state = RANDOM_STATE,\n",
        "                          n_jobs = -1)"
      ]
    },
    {
      "cell_type": "code",
      "execution_count": 80,
      "id": "eeb91722",
      "metadata": {
        "id": "eeb91722"
      },
      "outputs": [],
      "source": [
        "# Split train-validation, senza cross validation\n",
        "df_train_reg_portata, df_val_reg_portata = train_test_split(\n",
        "    df_portata_symbolic,\n",
        "    train_size=0.8,\n",
        "    shuffle=False,\n",
        "    random_state=RANDOM_STATE\n",
        ")\n",
        "\n",
        "X_train_reg_portata = df_train_reg_portata[df_train_reg_portata.columns.difference(['Portata_Uscita'])]\n",
        "X_val_reg_portata = df_val_reg_portata[df_train_reg_portata.columns.difference(['Portata_Uscita'])]\n",
        "Y_train_reg_portata = df_train_reg_portata['Portata_Uscita']\n",
        "Y_val_reg_portata = df_val_reg_portata['Portata_Uscita']"
      ]
    },
    {
      "cell_type": "code",
      "execution_count": 81,
      "id": "d7a9f6f1",
      "metadata": {
        "id": "d7a9f6f1",
        "outputId": "cb0e7f8c-0d98-4b76-d055-0952fc9c7d00"
      },
      "outputs": [
        {
          "name": "stdout",
          "output_type": "stream",
          "text": [
            "Wall time: 10min 53s\n"
          ]
        }
      ],
      "source": [
        "%%time \n",
        "# Train\n",
        "portata_model.fit(X_train_reg_portata, Y_train_reg_portata)\n",
        "\n",
        "# Predict\n",
        "sr_y_pred_portata = portata_model.predict(X_val_reg_portata).reshape(-1,1)"
      ]
    },
    {
      "cell_type": "code",
      "execution_count": 82,
      "id": "790e19db",
      "metadata": {
        "id": "790e19db",
        "outputId": "381131a2-c732-4332-e729-56eff0bdedd1"
      },
      "outputs": [
        {
          "data": {
            "image/png": "[encoded data removed]",
            "text/plain": [
              "<Figure size 720x360 with 1 Axes>"
            ]
          },
          "metadata": {
            "needs_background": "light"
          },
          "output_type": "display_data"
        },
        {
          "name": "stdout",
          "output_type": "stream",
          "text": [
            "MSE Symbolic regression Portata Uscita: 5.566\n"
          ]
        }
      ],
      "source": [
        "# Plot the results\n",
        "plt.figure()\n",
        "plt.plot(list(Y_val_reg_portata), label = 'Valori reali')\n",
        "plt.plot(sr_y_pred_portata, label=\"Symbolic\", linewidth=2)\n",
        "plt.xlabel(\"data\")\n",
        "plt.ylabel(\"Portata\")\n",
        "plt.legend()\n",
        "plt.show()\n",
        "\n",
        "# Valore MSE\n",
        "mse_portata_sybolic = round(mean_squared_error(Y_val_reg_portata, sr_y_pred_portata), ndigits=3)\n",
        "print('MSE Symbolic regression Portata Uscita:', mse_portata_sybolic)"
      ]
    },
    {
      "cell_type": "code",
      "execution_count": 83,
      "id": "9102010a",
      "metadata": {
        "id": "9102010a"
      },
      "outputs": [],
      "source": [
        "# Salviamo modello\n",
        "with open('###', 'wb') as file:\n",
        "    pickle.dump(portata_model, file)"
      ]
    },
    {
      "cell_type": "code",
      "execution_count": 84,
      "id": "ca38b3b1",
      "metadata": {
        "id": "ca38b3b1",
        "outputId": "00a50ccf-e4c1-4396-f210-a95ac6404468"
      },
      "outputs": [
        {
          "name": "stdout",
          "output_type": "stream",
          "text": [
            "Wall time: 2min 46s\n"
          ]
        }
      ],
      "source": [
        "%%time\n",
        "# Con Cross validation\n",
        "time_series_cv = TimeSeriesSplit(n_splits = 10, test_size = 7)\n",
        "    \n",
        "MSE = []\n",
        "\n",
        "X = df_portata_symbolic[df_portata_symbolic.columns.difference(['Portata_Uscita', 'Log_Portata_Uscita','Data','Year'])]\n",
        "Y = df_portata_symbolic['Portata_Uscita']\n",
        "\n",
        "for train_index, val_index in time_series_cv.split(X):\n",
        "    # Divisione train e validation\n",
        "    X_train, X_val = X.loc[train_index], X.loc[val_index]\n",
        "    Y_train, Y_val = Y[train_index], Y[val_index]\n",
        "    \n",
        "    \n",
        "    model = SymbolicRegressor(population_size = 300,\n",
        "                          tournament_size = 50,\n",
        "                          generations = 30, # Diminuisco numero di generazioni per diminuire il costo\n",
        "                          stopping_criteria=0.1,\n",
        "                          metric='mse',\n",
        "                          function_set = function_set, \n",
        "                          p_crossover=0.65,\n",
        "                          p_subtree_mutation=0.15,\n",
        "                          p_hoist_mutation=0.05,\n",
        "                          p_point_mutation=0.1,\n",
        "                          verbose = 0,\n",
        "                          random_state = RANDOM_STATE,\n",
        "                          n_jobs = -1)\n",
        "    \n",
        "    model.fit(X_train, Y_train)\n",
        "\n",
        "    # Predict\n",
        "    y_pred = model.predict(X_val).reshape(-1,1)\n",
        "    \n",
        "    MSE.append((list(Y_val)[6]-y_pred[6])**2)"
      ]
    },
    {
      "cell_type": "code",
      "execution_count": 85,
      "id": "84f13076",
      "metadata": {
        "id": "84f13076",
        "outputId": "2eb2a0c4-6139-40d1-9fad-88c98a6c04e4"
      },
      "outputs": [
        {
          "data": {
            "text/plain": [
              "6.378"
            ]
          },
          "execution_count": 85,
          "metadata": {},
          "output_type": "execute_result"
        }
      ],
      "source": [
        "# MSE\n",
        "round(np.mean(np.array(MSE)),3)"
      ]
    },
    {
      "cell_type": "markdown",
      "id": "02173812",
      "metadata": {
        "id": "02173812"
      },
      "source": [
        "# KNN"
      ]
    },
    {
      "cell_type": "code",
      "execution_count": 86,
      "id": "fe4c85d4",
      "metadata": {
        "id": "fe4c85d4"
      },
      "outputs": [],
      "source": [
        "# Carichiamo dataset\n",
        "df = pd.read_csv('###')"
      ]
    },
    {
      "cell_type": "markdown",
      "id": "fb18f96a",
      "metadata": {
        "id": "fb18f96a"
      },
      "source": [
        "## Livello"
      ]
    },
    {
      "cell_type": "code",
      "execution_count": 87,
      "id": "f77f2626",
      "metadata": {
        "id": "f77f2626"
      },
      "outputs": [],
      "source": [
        "# Scelta colonne\n",
        "df_livello = df[['Data','Livello_Acqua']]"
      ]
    },
    {
      "cell_type": "code",
      "execution_count": 88,
      "id": "7c8b3511",
      "metadata": {
        "id": "7c8b3511"
      },
      "outputs": [],
      "source": [
        "# Definizione iper-parametri KNN\n",
        "p = 365*3 # history per la previsione (iperparametro knn)\n",
        "k = 5 # k (iperparametro knn)\n",
        "h = 7 # horizon --> siamo in Multi-Step (in particolare multi-output)\n",
        "N_rip = 2000 # numero di ripeizioni per CV, anche 1000 ripetizioni\n",
        "step = 1 # step per la cross validation\n",
        "pesi = 'media'\n",
        "MSE = []"
      ]
    },
    {
      "cell_type": "code",
      "execution_count": 89,
      "id": "2169a514",
      "metadata": {
        "id": "2169a514",
        "outputId": "4be57fdb-89b8-4445-aa8d-48c8f608c8e8"
      },
      "outputs": [
        {
          "name": "stdout",
          "output_type": "stream",
          "text": [
            "Wall time: 2min 2s\n"
          ]
        }
      ],
      "source": [
        "%%time\n",
        "# Cross Validation\n",
        "for rip in range(N_rip):\n",
        "    stream = np.array(df_livello['Livello_Acqua'])\n",
        "    t = 365*4 + rip*step\n",
        "    if t+h>=len(stream):\n",
        "        break\n",
        "# Ricerca delle k sotto-sequenze simili alla stream[(t-p):t]\n",
        "    count = 0\n",
        "    s = np.array(df_livello['Livello_Acqua'])\n",
        "    start = t-p\n",
        "    end = t+1\n",
        "    query = stream[start:end] # <- la serie query è lunga p+1\n",
        "    IXS = np.zeros(k)\n",
        "    \n",
        "    while count < k:\n",
        "        d_min = math.inf\n",
        "        for ix in range(0,(t-p-h+1)):\n",
        "            subseq = s[ix:(ix+p+1)]\n",
        "            d = np.linalg.norm(subseq-query)\n",
        "            if d < d_min:\n",
        "                d_min = d\n",
        "                IXS[count] = ix\n",
        "    \n",
        "        ind = int(IXS[count])\n",
        "        count = count + 1\n",
        "        s[ind:(ind+p+1)] = math.inf # Si assume non sovrapposizione\n",
        "\n",
        "    IXS = IXS[IXS>0] # <- se non fosse possibile identificare le sotto-sequenze\n",
        "\n",
        "    # predizione\n",
        "    futuri = np.empty((len(IXS),h))\n",
        "    for i in range(0,len(IXS)):\n",
        "        w = range(int(IXS[i]+p+1),int(IXS[i]+p+h+1))\n",
        "        futuri[i,:] = stream[w]\n",
        "        wp = range(int(IXS[i]),int(IXS[i]+p+1))\n",
        "\n",
        "    # calcolo media o mediana\n",
        "    if pesi == 'media':\n",
        "        pred = futuri.mean(0)\n",
        "    else:\n",
        "        pred = np.median(futuri, axis=0)\n",
        "    \n",
        "    MSE.append((pred[h-1]-stream[t+h])**2 )"
      ]
    },
    {
      "cell_type": "code",
      "execution_count": 90,
      "id": "cefe0e75",
      "metadata": {
        "id": "cefe0e75",
        "outputId": "cc56e48e-106b-42dc-eb0e-2e823f855151"
      },
      "outputs": [
        {
          "name": "stdout",
          "output_type": "stream",
          "text": [
            "MSE KNN Livello: 1.102\n"
          ]
        }
      ],
      "source": [
        "# MSE\n",
        "MSE_mean_livello = np.mean(np.array(MSE))\n",
        "print('MSE KNN Livello:', round(MSE_mean_livello, 3))"
      ]
    },
    {
      "cell_type": "markdown",
      "id": "f356dd2a",
      "metadata": {
        "id": "f356dd2a"
      },
      "source": [
        "## Portata"
      ]
    },
    {
      "cell_type": "code",
      "execution_count": 91,
      "id": "e90af1dc",
      "metadata": {
        "id": "e90af1dc"
      },
      "outputs": [],
      "source": [
        "# Scelta colonne dal dataset\n",
        "df_portata = df[['Data','Portata_Uscita']]"
      ]
    },
    {
      "cell_type": "code",
      "execution_count": 92,
      "id": "a9d5f304",
      "metadata": {
        "id": "a9d5f304"
      },
      "outputs": [],
      "source": [
        "# Definizione iper-parametri\n",
        "p = 365*2 # history per la previsione (iperparametro knn)\n",
        "k = 5 # k (iperparametro knn)\n",
        "h = 7 # horizon --> siamo in Multi-Step (in particolare multi-output)\n",
        "N_rip = 1000 # numero di ripeizioni per CV\n",
        "step = 1 # step per la cross validation\n",
        "pesi = 'media'\n",
        "MSE = []"
      ]
    },
    {
      "cell_type": "code",
      "execution_count": 93,
      "id": "6b801df3",
      "metadata": {
        "id": "6b801df3",
        "outputId": "08a714f3-52d3-41d4-de70-c4d31741bc63"
      },
      "outputs": [
        {
          "name": "stdout",
          "output_type": "stream",
          "text": [
            "Wall time: 55.2 s\n"
          ]
        }
      ],
      "source": [
        "%%time\n",
        "# Cross Validation\n",
        "for rip in range(N_rip):\n",
        "    stream = np.array(df_portata['Portata_Uscita'])\n",
        "    t = 365*4 + rip*step\n",
        "    if t+h>=len(stream):\n",
        "        break\n",
        "# Ricerca delle k sotto-sequenze simili alla stream[(t-p):t]\n",
        "    count = 0\n",
        "    s = np.array(df_portata['Portata_Uscita'])\n",
        "    start = t-p\n",
        "    end = t+1\n",
        "    query = stream[start:end] # <- la serie query è lunga p+1\n",
        "    IXS = np.zeros(k)\n",
        "    \n",
        "    while count < k:\n",
        "        d_min = math.inf\n",
        "        for ix in range(0,(t-p-h+1)):\n",
        "            subseq = s[ix:(ix+p+1)]\n",
        "            d = np.linalg.norm(subseq-query)\n",
        "            if d < d_min:\n",
        "                d_min = d\n",
        "                IXS[count] = ix\n",
        "  \n",
        "        ind = int(IXS[count])\n",
        "        count = count + 1\n",
        "        s[ind:(ind+p+1)] = math.inf # Si assume non sovrapposizione\n",
        "\n",
        "    IXS = IXS[IXS>0] # <- se non fosse possibile identificare le sotto-sequenze\n",
        "    \n",
        "    # predizione\n",
        "    futuri = np.empty((len(IXS),h))\n",
        "    for i in range(0,len(IXS)):\n",
        "        w = range(int(IXS[i]+p+1),int(IXS[i]+p+h+1))\n",
        "        futuri[i,:] = stream[w]\n",
        "        wp = range(int(IXS[i]),int(IXS[i]+p+1))\n",
        "    \n",
        "    # calcolo media o mediana\n",
        "    if pesi == 'media':\n",
        "        pred = futuri.mean(0)\n",
        "    else:\n",
        "        pred = np.median(futuri, axis=0)\n",
        "    \n",
        "    MSE.append((pred[h-1]-stream[t+h])**2 )"
      ]
    },
    {
      "cell_type": "code",
      "execution_count": 94,
      "id": "1bec45c4",
      "metadata": {
        "id": "1bec45c4",
        "outputId": "61a0627e-d32e-472a-815f-e3bd8b3700e9"
      },
      "outputs": [
        {
          "name": "stdout",
          "output_type": "stream",
          "text": [
            "MSE KNN Portata: 9.785\n"
          ]
        }
      ],
      "source": [
        "# MSE\n",
        "MSE_mean_portata = np.mean(np.array(MSE))\n",
        "print('MSE KNN Portata:', round(MSE_mean_portata, 3))"
      ]
    },
    {
      "cell_type": "markdown",
      "id": "ee944266",
      "metadata": {
        "id": "ee944266"
      },
      "source": [
        "# Neural Network"
      ]
    },
    {
      "cell_type": "code",
      "execution_count": 95,
      "id": "c0f0fd9d",
      "metadata": {
        "id": "c0f0fd9d"
      },
      "outputs": [
        {
          "name": "stdout",
          "output_type": "stream",
          "text": [
            "WARNING:tensorflow:From C:\\Users\\maver\\AppData\\Local\\Temp/ipykernel_2300/1151624393.py:14: The name tf.keras.backend.set_session is deprecated. Please use tf.compat.v1.keras.backend.set_session instead.\n",
            "\n"
          ]
        }
      ],
      "source": [
        "# Impostazione di diversi seed per poter garantire la riproducibiltà dei risultati\n",
        "# vengono anche importati degli ulteriori pacchetti\n",
        "\n",
        "os.environ['PYTHONHASHSEED']=str(RANDOM_STATE)\n",
        "\n",
        "random.seed(RANDOM_STATE)\n",
        "\n",
        "np.random.seed(RANDOM_STATE)\n",
        "\n",
        "tf.compat.v1.set_random_seed(RANDOM_STATE)\n",
        "\n",
        "session_conf = tf.compat.v1.ConfigProto(intra_op_parallelism_threads=1, inter_op_parallelism_threads=1)\n",
        "sess = tf.compat.v1.Session(graph=tf.compat.v1.get_default_graph(), config=session_conf)\n",
        "tf.compat.v1.keras.backend.set_session(sess)"
      ]
    },
    {
      "cell_type": "code",
      "execution_count": 96,
      "id": "1593a7e6",
      "metadata": {},
      "outputs": [
        {
          "name": "stdout",
          "output_type": "stream",
          "text": [
            "tensorflow 2.9.1\n"
          ]
        }
      ],
      "source": [
        "print('tensorflow', tf.__version__)"
      ]
    },
    {
      "cell_type": "markdown",
      "id": "093a823c",
      "metadata": {
        "id": "093a823c"
      },
      "source": [
        "## Portata"
      ]
    },
    {
      "cell_type": "code",
      "execution_count": 97,
      "id": "69b32c78",
      "metadata": {
        "id": "69b32c78"
      },
      "outputs": [],
      "source": [
        "# Caricamento dataset\n",
        "# utilizziamo dataset con dati non normalizzati\n",
        "df = pd.read_pickle('###', compression='zip')"
      ]
    },
    {
      "cell_type": "code",
      "execution_count": 98,
      "id": "lmjcHc4l73PO",
      "metadata": {
        "id": "lmjcHc4l73PO"
      },
      "outputs": [],
      "source": [
        "# Divisione train validation\n",
        "df_train, df_val = train_test_split(\n",
        "    df,\n",
        "    train_size=0.8,\n",
        "    shuffle=False,\n",
        "    random_state=RANDOM_STATE\n",
        ")"
      ]
    },
    {
      "cell_type": "code",
      "execution_count": 99,
      "id": "376d2d96",
      "metadata": {
        "id": "376d2d96"
      },
      "outputs": [],
      "source": [
        "# Definizione colonne feature e target\n",
        "nn_features = ['Temperatura_Zona_5', 'Pioggia_Totale', 'Livello_Acqua']\n",
        "nn_target = ['Portata_Uscita']"
      ]
    },
    {
      "cell_type": "code",
      "execution_count": 100,
      "id": "-s8lPZBl73PO",
      "metadata": {
        "id": "-s8lPZBl73PO"
      },
      "outputs": [],
      "source": [
        "# Separazione di target e feature\n",
        "X_train = df_train[nn_features]\n",
        "X_val = df_val[nn_features]\n",
        "\n",
        "Y_train = df_train[nn_target]\n",
        "Y_val = df_val[nn_target]"
      ]
    },
    {
      "cell_type": "code",
      "execution_count": 101,
      "id": "svpxgDPE73PO",
      "metadata": {
        "id": "svpxgDPE73PO"
      },
      "outputs": [],
      "source": [
        "# Viene aggiunta una dimensione per rendere i dataset utilizzabili dalla rete\n",
        "X_train = np.expand_dims(X_train, axis=-1)\n",
        "X_val = np.expand_dims(X_val, axis=-1)"
      ]
    },
    {
      "cell_type": "code",
      "execution_count": 102,
      "id": "eWGxmBqT73PP",
      "metadata": {
        "id": "eWGxmBqT73PP"
      },
      "outputs": [],
      "source": [
        "# Creazione della rete neurale con i diversi layer che la compongono\n",
        "batch_size = 5\n",
        "\n",
        "input_layer = keras.Input(shape=(len(nn_features), 1))\n",
        "\n",
        "lstm_1 = keras.layers.LSTM(units = 100,\n",
        "             activation=\"tanh\", recurrent_activation=\"sigmoid\", recurrent_dropout=0, unroll=False, use_bias=True,\n",
        "             batch_size = batch_size,\n",
        "             recurrent_initializer='glorot_normal',\n",
        "             return_sequences = True,\n",
        "             kernel_initializer=initializers.RandomNormal(seed = RANDOM_STATE),\n",
        "             bias_initializer=initializers.Zeros())(input_layer)\n",
        "\n",
        "lstm_2 = keras.layers.LSTM(units = 50,\n",
        "             activation=\"tanh\", recurrent_activation=\"sigmoid\", recurrent_dropout=0, unroll=False, use_bias=True,\n",
        "             return_sequences = True,\n",
        "             recurrent_initializer='glorot_normal',\n",
        "             kernel_initializer=initializers.RandomNormal(seed = RANDOM_STATE),\n",
        "             bias_initializer=initializers.Zeros())(lstm_1)\n",
        "\n",
        "lstm_3 = keras.layers.LSTM(units = 30,\n",
        "             activation=\"tanh\", recurrent_activation=\"sigmoid\", recurrent_dropout=0, unroll=False, use_bias=True,\n",
        "             return_sequences = True,\n",
        "             recurrent_initializer='glorot_normal',\n",
        "             kernel_initializer=initializers.RandomNormal(seed = RANDOM_STATE),\n",
        "             bias_initializer=initializers.Zeros())(lstm_2)\n",
        "\n",
        "lstm_4 = keras.layers.GRU(units = 10,\n",
        "             activation=\"tanh\", recurrent_activation=\"sigmoid\", recurrent_dropout=0, unroll=False, use_bias=True,\n",
        "             return_sequences = True,\n",
        "             recurrent_initializer='glorot_normal',\n",
        "             kernel_initializer=initializers.RandomNormal(seed = RANDOM_STATE),\n",
        "             bias_initializer=initializers.Zeros())(lstm_3)\n",
        "\n",
        "portata_output = keras.layers.Dense(1, activation = 'relu', name = 'portata_output')(lstm_4)\n",
        "\n",
        "model = keras.Model(inputs=input_layer, outputs=portata_output)"
      ]
    },
    {
      "cell_type": "code",
      "execution_count": 103,
      "id": "ae1c1850",
      "metadata": {
        "id": "ae1c1850"
      },
      "outputs": [],
      "source": [
        "# Compliazione della rete e scelta di ottimizzatore e funzione di loss\n",
        "model.compile(\n",
        "    optimizer=\"adam\",\n",
        "    loss= {\"portata_output\": keras.losses.MeanSquaredError()},\n",
        "    metrics = [keras.losses.MeanSquaredError()])"
      ]
    },
    {
      "cell_type": "code",
      "execution_count": 104,
      "id": "a57c0c34",
      "metadata": {
        "id": "a57c0c34"
      },
      "outputs": [],
      "source": [
        "# Viene istanziato un early stop per evitare di allenare la rete inutilmente\n",
        "early_stopping_callback = tf.keras.callbacks.EarlyStopping(\n",
        "    monitor='val_loss',\n",
        "    mode='min',\n",
        "    patience=5,\n",
        "    restore_best_weights=True\n",
        ")\n",
        "\n",
        "callback = []\n",
        "callback.append(early_stopping_callback)"
      ]
    },
    {
      "cell_type": "code",
      "execution_count": 105,
      "id": "PkfrVkiU73PP",
      "metadata": {
        "id": "PkfrVkiU73PP",
        "outputId": "958f7627-9d1d-4b3c-80b9-03171ea20295"
      },
      "outputs": [
        {
          "name": "stdout",
          "output_type": "stream",
          "text": [
            "Model: \"model\"\n",
            "_________________________________________________________________\n",
            " Layer (type)                Output Shape              Param #   \n",
            "=================================================================\n",
            " input_1 (InputLayer)        [(None, 3, 1)]            0         \n",
            "                                                                 \n",
            " lstm (LSTM)                 (None, 3, 100)            40800     \n",
            "                                                                 \n",
            " lstm_1 (LSTM)               (None, 3, 50)             30200     \n",
            "                                                                 \n",
            " lstm_2 (LSTM)               (None, 3, 30)             9720      \n",
            "                                                                 \n",
            " gru (GRU)                   (None, 3, 10)             1260      \n",
            "                                                                 \n",
            " portata_output (Dense)      (None, 3, 1)              11        \n",
            "                                                                 \n",
            "=================================================================\n",
            "Total params: 81,991\n",
            "Trainable params: 81,991\n",
            "Non-trainable params: 0\n",
            "_________________________________________________________________\n"
          ]
        }
      ],
      "source": [
        "# Summary\n",
        "model.summary()"
      ]
    },
    {
      "cell_type": "code",
      "execution_count": 106,
      "id": "1f919181",
      "metadata": {
        "id": "1f919181"
      },
      "outputs": [
        {
          "name": "stdout",
          "output_type": "stream",
          "text": [
            "Wall time: 4min 15s\n"
          ]
        }
      ],
      "source": [
        "%%time\n",
        "# Fit\n",
        "train = model.fit(\n",
        "    x=X_train,\n",
        "    y={'portata_output': Y_train.Portata_Uscita},\n",
        "    validation_data = (X_val, {'portata_output' : Y_val.Portata_Uscita}),\n",
        "    epochs=50,\n",
        "    batch_size=batch_size,\n",
        "    callbacks=callback,\n",
        "    verbose = False,\n",
        "    shuffle = False)"
      ]
    },
    {
      "cell_type": "code",
      "execution_count": 107,
      "id": "uA-qMiqe73PP",
      "metadata": {
        "id": "uA-qMiqe73PP",
        "outputId": "60271309-bf57-416f-db24-5ae402bcff6c"
      },
      "outputs": [
        {
          "name": "stdout",
          "output_type": "stream",
          "text": [
            "Addestramento della rete effettuato in 46 epoche\n"
          ]
        }
      ],
      "source": [
        "# numero di epoche di addestramento\n",
        "print('Addestramento della rete effettuato in', len(train.epoch), 'epoche')\n",
        "#46"
      ]
    },
    {
      "cell_type": "code",
      "execution_count": 108,
      "id": "AhYdrECL73PQ",
      "metadata": {
        "id": "AhYdrECL73PQ",
        "outputId": "a4b59575-15bd-4858-ad96-e9e3ced5d946"
      },
      "outputs": [
        {
          "data": {
            "text/plain": [
              "dict_keys(['loss', 'mean_squared_error', 'val_loss', 'val_mean_squared_error'])"
            ]
          },
          "execution_count": 108,
          "metadata": {},
          "output_type": "execute_result"
        }
      ],
      "source": [
        "train.history.keys()"
      ]
    },
    {
      "cell_type": "code",
      "execution_count": 109,
      "id": "9db70db1",
      "metadata": {
        "id": "9db70db1",
        "outputId": "27bbb194-094c-4b87-b5fb-ec062ce0b082"
      },
      "outputs": [
        {
          "name": "stdout",
          "output_type": "stream",
          "text": [
            "MSE Neural network Portata 8.599\n"
          ]
        },
        {
          "data": {
            "image/png": "[encoded data removed]",
            "text/plain": [
              "<Figure size 720x360 with 1 Axes>"
            ]
          },
          "metadata": {
            "needs_background": "light"
          },
          "output_type": "display_data"
        }
      ],
      "source": [
        "# Risultati\n",
        "plt.plot(train.history['mean_squared_error'], label='Training Loss')\n",
        "plt.plot(train.history['val_mean_squared_error'], label='Validation Loss')\n",
        "plt.legend(loc='upper right')\n",
        "plt.title('Training and Validation Loss on Portata')\n",
        "\n",
        "mse_portata_nn = round(train.history['val_mean_squared_error'][-1], ndigits=3)\n",
        "\n",
        "print('MSE Neural network Portata', mse_portata_nn)\n",
        "#8.599"
      ]
    },
    {
      "cell_type": "code",
      "execution_count": 110,
      "id": "857767ba",
      "metadata": {
        "id": "857767ba"
      },
      "outputs": [
        {
          "name": "stderr",
          "output_type": "stream",
          "text": [
            "WARNING:absl:Found untraced functions such as lstm_cell_layer_call_fn, lstm_cell_layer_call_and_return_conditional_losses, lstm_cell_1_layer_call_fn, lstm_cell_1_layer_call_and_return_conditional_losses, lstm_cell_2_layer_call_fn while saving (showing 5 of 8). These functions will not be directly callable after loading.\n"
          ]
        },
        {
          "name": "stdout",
          "output_type": "stream",
          "text": [
            "INFO:tensorflow:Assets written to: ram://cafd162e-182a-443a-8cd5-8ea91625bce3/assets\n"
          ]
        },
        {
          "name": "stderr",
          "output_type": "stream",
          "text": [
            "INFO:tensorflow:Assets written to: ram://cafd162e-182a-443a-8cd5-8ea91625bce3/assets\n"
          ]
        }
      ],
      "source": [
        "# Slaviamo il modello\n",
        "with open('###', 'wb') as file:\n",
        "    pickle.dump(train, file)"
      ]
    },
    {
      "cell_type": "markdown",
      "id": "b018f77a",
      "metadata": {
        "id": "b018f77a"
      },
      "source": [
        "## Livello"
      ]
    },
    {
      "cell_type": "code",
      "execution_count": 111,
      "id": "d73b3fce",
      "metadata": {
        "id": "d73b3fce"
      },
      "outputs": [],
      "source": [
        "# Carichiamo dati normalizzati\n",
        "df = pd.read_pickle('###', compression='zip')"
      ]
    },
    {
      "cell_type": "code",
      "execution_count": 112,
      "id": "e9ujIWW973PQ",
      "metadata": {
        "id": "e9ujIWW973PQ"
      },
      "outputs": [],
      "source": [
        "# Divisione train validation\n",
        "_train, df_val = train_test_split(\n",
        "    df,\n",
        "    train_size=0.8,\n",
        "    shuffle=False,\n",
        "    random_state=RANDOM_STATE\n",
        ")"
      ]
    },
    {
      "cell_type": "code",
      "execution_count": 113,
      "id": "9d7aa1e6",
      "metadata": {
        "id": "9d7aa1e6"
      },
      "outputs": [],
      "source": [
        "# Definizione colonne feature e target\n",
        "nn_features = ['Temperatura_Zona_5', 'Pioggia_Totale', 'Portata_Uscita']\n",
        "nn_target = ['Livello_Acqua']"
      ]
    },
    {
      "cell_type": "code",
      "execution_count": 114,
      "id": "413caa61",
      "metadata": {
        "id": "413caa61"
      },
      "outputs": [],
      "source": [
        "# Separazione di target e feature\n",
        "X_train = df_train[nn_features]\n",
        "X_val = df_val[nn_features]\n",
        "\n",
        "Y_train = df_train[nn_target]\n",
        "Y_val = df_val[nn_target]"
      ]
    },
    {
      "cell_type": "code",
      "execution_count": 115,
      "id": "jVytd6lI73PR",
      "metadata": {
        "id": "jVytd6lI73PR"
      },
      "outputs": [],
      "source": [
        "# Aggiunta una dimensione\n",
        "X_train = np.expand_dims(X_train, axis=-1)\n",
        "X_val = np.expand_dims(X_val, axis=-1)"
      ]
    },
    {
      "cell_type": "code",
      "execution_count": 116,
      "id": "4a67fb7e",
      "metadata": {
        "id": "4a67fb7e"
      },
      "outputs": [],
      "source": [
        "# Creazione della rete neurale con i diversi layer che la compongono\n",
        "batch_size = 5\n",
        "\n",
        "input_layer = keras.Input(shape=(len(nn_features), 1))\n",
        "\n",
        "lstm_1 = keras.layers.LSTM(units = 100,\n",
        "             activation=\"tanh\", recurrent_activation=\"sigmoid\", recurrent_dropout=0, unroll=False, use_bias=True, # requirement   \n",
        "             batch_size = batch_size,\n",
        "             recurrent_initializer='glorot_normal',\n",
        "             return_sequences = True,\n",
        "             kernel_initializer=initializers.RandomNormal(seed = RANDOM_STATE),\n",
        "             bias_initializer=initializers.Zeros())(input_layer)\n",
        "\n",
        "lstm_2 = keras.layers.LSTM(units = 50,\n",
        "             activation=\"tanh\", recurrent_activation=\"sigmoid\", recurrent_dropout=0, unroll=False, use_bias=True, # requirement   \n",
        "             return_sequences = True,\n",
        "             recurrent_initializer='glorot_normal',\n",
        "             kernel_initializer=initializers.RandomNormal(seed = RANDOM_STATE),\n",
        "             bias_initializer=initializers.Zeros())(lstm_1)\n",
        "\n",
        "lstm_3 = keras.layers.LSTM(units = 30,\n",
        "             activation=\"tanh\", recurrent_activation=\"sigmoid\", recurrent_dropout=0, unroll=False, use_bias=True, # requirement   \n",
        "             return_sequences = True,\n",
        "             recurrent_initializer='glorot_normal',\n",
        "             kernel_initializer=initializers.RandomNormal(seed = RANDOM_STATE),\n",
        "             bias_initializer=initializers.Zeros())(lstm_2)\n",
        "\n",
        "lstm_4 = keras.layers.GRU(units = 10,\n",
        "             activation=\"tanh\", recurrent_activation=\"sigmoid\", recurrent_dropout=0, unroll=False, use_bias=True, # requirement   \n",
        "             return_sequences = True,\n",
        "             recurrent_initializer='glorot_normal',\n",
        "             kernel_initializer=initializers.RandomNormal(seed = RANDOM_STATE),\n",
        "             bias_initializer=initializers.Zeros())(lstm_3)\n",
        "\n",
        "livello_output = keras.layers.Dense(1, activation = 'relu', name = 'livello_output')(lstm_4)\n",
        "\n",
        "model = keras.Model(inputs=input_layer, outputs=livello_output)"
      ]
    },
    {
      "cell_type": "code",
      "execution_count": 117,
      "id": "Ucxq58-s73PR",
      "metadata": {
        "id": "Ucxq58-s73PR"
      },
      "outputs": [],
      "source": [
        "# Compliazione della rete e scelta di ottimizzatore e funzione di loss\n",
        "model.compile(\n",
        "    optimizer=\"adam\",\n",
        "    loss= {\"livello_output\": keras.losses.MeanSquaredError()},\n",
        "    metrics = [keras.losses.MeanSquaredError()])"
      ]
    },
    {
      "cell_type": "code",
      "execution_count": 118,
      "id": "9DU5rRac73PR",
      "metadata": {
        "id": "9DU5rRac73PR"
      },
      "outputs": [],
      "source": [
        "# Early stopping\n",
        "early_stopping_callback = tf.keras.callbacks.EarlyStopping(\n",
        "    monitor='val_loss',\n",
        "    mode='min',\n",
        "    patience=5,\n",
        "    restore_best_weights=True\n",
        ")\n",
        "\n",
        "callback = []\n",
        "callback.append(early_stopping_callback)"
      ]
    },
    {
      "cell_type": "code",
      "execution_count": 119,
      "id": "6a1fde51",
      "metadata": {
        "id": "6a1fde51",
        "outputId": "0905da83-2b1b-417b-d013-cfcad70298e3"
      },
      "outputs": [
        {
          "name": "stdout",
          "output_type": "stream",
          "text": [
            "Model: \"model_1\"\n",
            "_________________________________________________________________\n",
            " Layer (type)                Output Shape              Param #   \n",
            "=================================================================\n",
            " input_2 (InputLayer)        [(None, 3, 1)]            0         \n",
            "                                                                 \n",
            " lstm_3 (LSTM)               (None, 3, 100)            40800     \n",
            "                                                                 \n",
            " lstm_4 (LSTM)               (None, 3, 50)             30200     \n",
            "                                                                 \n",
            " lstm_5 (LSTM)               (None, 3, 30)             9720      \n",
            "                                                                 \n",
            " gru_1 (GRU)                 (None, 3, 10)             1260      \n",
            "                                                                 \n",
            " livello_output (Dense)      (None, 3, 1)              11        \n",
            "                                                                 \n",
            "=================================================================\n",
            "Total params: 81,991\n",
            "Trainable params: 81,991\n",
            "Non-trainable params: 0\n",
            "_________________________________________________________________\n"
          ]
        }
      ],
      "source": [
        "# Summary\n",
        "model.summary()"
      ]
    },
    {
      "cell_type": "code",
      "execution_count": 120,
      "id": "Rf33L1ys73PS",
      "metadata": {
        "id": "Rf33L1ys73PS"
      },
      "outputs": [
        {
          "name": "stdout",
          "output_type": "stream",
          "text": [
            "Wall time: 1min 17s\n"
          ]
        }
      ],
      "source": [
        "%%time\n",
        "# Fit\n",
        "train = model.fit(\n",
        "    x=X_train,\n",
        "    y={'livello_output': Y_train.Livello_Acqua},\n",
        "    validation_data = (X_val, {'livello_output' : Y_val.Livello_Acqua}),\n",
        "    epochs=50,\n",
        "    batch_size=batch_size,\n",
        "    callbacks=callback,\n",
        "    verbose = False,\n",
        "    shuffle = False)"
      ]
    },
    {
      "cell_type": "code",
      "execution_count": 121,
      "id": "-lOUmSq_73PS",
      "metadata": {
        "id": "-lOUmSq_73PS",
        "outputId": "69b64361-65d3-4652-f036-d2aa0557941c"
      },
      "outputs": [
        {
          "name": "stdout",
          "output_type": "stream",
          "text": [
            "Addestramento della rete effettuato in 12 epoche\n"
          ]
        }
      ],
      "source": [
        "# Epoche di addestramento\n",
        "print('Addestramento della rete effettuato in', len(train.epoch), 'epoche')"
      ]
    },
    {
      "cell_type": "code",
      "execution_count": 122,
      "id": "056cdec7",
      "metadata": {
        "id": "056cdec7",
        "outputId": "f8dd81b6-c65a-46da-afdd-9604de310e84"
      },
      "outputs": [
        {
          "name": "stdout",
          "output_type": "stream",
          "text": [
            "MSE Neural network Livello 2.765\n"
          ]
        },
        {
          "data": {
            "image/png": "[encoded data removed]",
            "text/plain": [
              "<Figure size 720x360 with 1 Axes>"
            ]
          },
          "metadata": {
            "needs_background": "light"
          },
          "output_type": "display_data"
        }
      ],
      "source": [
        "# risultati livello\n",
        "plt.plot(train.history['mean_squared_error'], label='Training Loss')\n",
        "plt.plot(train.history['val_mean_squared_error'], label='Validation Loss')\n",
        "plt.legend(loc='upper right')\n",
        "plt.title('Training and Validation Loss on Livello')\n",
        "\n",
        "mse_livello_nn = round(train.history['val_mean_squared_error'][-1], ndigits=3)\n",
        "\n",
        "print('MSE Neural network Livello', mse_livello_nn)\n",
        "#2.757"
      ]
    },
    {
      "cell_type": "code",
      "execution_count": 123,
      "id": "0869cf68",
      "metadata": {
        "id": "0869cf68"
      },
      "outputs": [
        {
          "name": "stderr",
          "output_type": "stream",
          "text": [
            "WARNING:absl:Found untraced functions such as lstm_cell_3_layer_call_fn, lstm_cell_3_layer_call_and_return_conditional_losses, lstm_cell_4_layer_call_fn, lstm_cell_4_layer_call_and_return_conditional_losses, lstm_cell_5_layer_call_fn while saving (showing 5 of 8). These functions will not be directly callable after loading.\n"
          ]
        },
        {
          "name": "stdout",
          "output_type": "stream",
          "text": [
            "INFO:tensorflow:Assets written to: ram://0cf7b199-ecaf-42bc-bbf7-cb3de622b6c8/assets\n"
          ]
        },
        {
          "name": "stderr",
          "output_type": "stream",
          "text": [
            "INFO:tensorflow:Assets written to: ram://0cf7b199-ecaf-42bc-bbf7-cb3de622b6c8/assets\n"
          ]
        }
      ],
      "source": [
        "# Salviamo il modello\n",
        "with open('../Models/rete_Livello_Acqua.pkl', 'wb') as file:\n",
        "    pickle.dump(train, file)"
      ]
    }
  ],
  "metadata": {
    "colab": {
      "name": "Part2_Training.ipynb",
      "provenance": []
    },
    "interpreter": {
      "hash": "26de051ba29f2982a8de78e945f0abaf191376122a1563185a90213a26c5da77"
    },
    "kernelspec": {
      "display_name": "Python 3 (ipykernel)",
      "language": "python",
      "name": "python3"
    },
    "language_info": {
      "codemirror_mode": {
        "name": "ipython",
        "version": 3
      },
      "file_extension": ".py",
      "mimetype": "text/x-python",
      "name": "python",
      "nbconvert_exporter": "python",
      "pygments_lexer": "ipython3",
      "version": "3.10.1"
    }
  },
  "nbformat": 4,
  "nbformat_minor": 5
}
